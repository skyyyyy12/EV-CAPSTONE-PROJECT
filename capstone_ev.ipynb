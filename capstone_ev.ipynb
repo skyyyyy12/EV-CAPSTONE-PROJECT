{
  "nbformat": 4,
  "nbformat_minor": 0,
  "metadata": {
    "colab": {
      "provenance": [],
      "authorship_tag": "ABX9TyO3zYXORph2AzvrWvCGrPIK",
      "include_colab_link": true
    },
    "kernelspec": {
      "name": "python3",
      "display_name": "Python 3"
    },
    "language_info": {
      "name": "python"
    }
  },
  "cells": [
    {
      "cell_type": "markdown",
      "metadata": {
        "id": "view-in-github",
        "colab_type": "text"
      },
      "source": [
        "<a href=\"https://colab.research.google.com/github/skyyyyy12/EV-CAPSTONE-PROJECT/blob/main/capstone_ev.ipynb\" target=\"_parent\"><img src=\"https://colab.research.google.com/assets/colab-badge.svg\" alt=\"Open In Colab\"/></a>"
      ]
    },
    {
      "cell_type": "markdown",
      "source": [
        "## **Task 1**"
      ],
      "metadata": {
        "id": "YSmecqsSgeMy"
      }
    },
    {
      "cell_type": "code",
      "execution_count": null,
      "metadata": {
        "id": "d4MIk-Qwpv3R"
      },
      "outputs": [],
      "source": [
        "\n",
        "import pandas as pd\n",
        "import numpy as np\n",
        "import seaborn as sns\n",
        "import matplotlib.pyplot as plt\n",
        "import warnings"
      ]
    },
    {
      "cell_type": "code",
      "source": [
        "# loading dataset\n",
        "ev_df = pd.read_excel('/content/States_Electric_Vehicle_Registrations_2018.xlsx', skiprows=4)\n",
        "state_dv = pd.read_excel('/content/state_codes.xlsx')\n",
        "all_vehicle_df = pd.read_excel('/content/States_All_Vehicle_Registrations_2018.xlsx',  skiprows=6)\n",
        "registration_df = pd.read_excel('/content/States_Annual_Energy_Generation_Sources_1990_2019.xlsx', skiprows=1)\n"
      ],
      "metadata": {
        "id": "yJsriP3WqQRo"
      },
      "execution_count": null,
      "outputs": []
    },
    {
      "cell_type": "code",
      "source": [
        "ev_df.info()"
      ],
      "metadata": {
        "colab": {
          "base_uri": "https://localhost:8080/"
        },
        "id": "7SAxuB5wiKFX",
        "outputId": "e190b460-dd1c-428b-ea72-78a2646c896a"
      },
      "execution_count": null,
      "outputs": [
        {
          "output_type": "stream",
          "name": "stdout",
          "text": [
            "<class 'pandas.core.frame.DataFrame'>\n",
            "RangeIndex: 50 entries, 0 to 49\n",
            "Data columns (total 5 columns):\n",
            " #   Column      Non-Null Count  Dtype  \n",
            "---  ------      --------------  -----  \n",
            " 0   Unnamed: 0  0 non-null      float64\n",
            " 1   Alaska      50 non-null     object \n",
            " 2   530         50 non-null     int64  \n",
            " 3   Unnamed: 3  0 non-null      float64\n",
            " 4   Unnamed: 4  8 non-null      object \n",
            "dtypes: float64(2), int64(1), object(2)\n",
            "memory usage: 2.1+ KB\n"
          ]
        }
      ]
    },
    {
      "cell_type": "code",
      "source": [
        "state_dv.info()"
      ],
      "metadata": {
        "colab": {
          "base_uri": "https://localhost:8080/"
        },
        "id": "CVEwOK_piX-t",
        "outputId": "be242e50-a1d8-46f8-a93d-2c4aff32c74d"
      },
      "execution_count": null,
      "outputs": [
        {
          "output_type": "stream",
          "name": "stdout",
          "text": [
            "<class 'pandas.core.frame.DataFrame'>\n",
            "RangeIndex: 51 entries, 0 to 50\n",
            "Data columns (total 2 columns):\n",
            " #   Column      Non-Null Count  Dtype \n",
            "---  ------      --------------  ----- \n",
            " 0   state_code  51 non-null     object\n",
            " 1   state_name  51 non-null     object\n",
            "dtypes: object(2)\n",
            "memory usage: 948.0+ bytes\n"
          ]
        }
      ]
    },
    {
      "cell_type": "code",
      "source": [
        "all_vehicle_df.info()"
      ],
      "metadata": {
        "colab": {
          "base_uri": "https://localhost:8080/"
        },
        "id": "5cTy_lTPiXxA",
        "outputId": "6232573a-9fd4-4562-cb27-7727d8fdcc1d"
      },
      "execution_count": null,
      "outputs": [
        {
          "output_type": "stream",
          "name": "stdout",
          "text": [
            "<class 'pandas.core.frame.DataFrame'>\n",
            "RangeIndex: 58 entries, 0 to 57\n",
            "Data columns (total 16 columns):\n",
            " #   Column       Non-Null Count  Dtype \n",
            "---  ------       --------------  ----- \n",
            " 0   Unnamed: 0   54 non-null     object\n",
            " 1   Unnamed: 1   57 non-null     object\n",
            " 2   Unnamed: 2   54 non-null     object\n",
            " 3   Unnamed: 3   53 non-null     object\n",
            " 4   Unnamed: 4   55 non-null     object\n",
            " 5   Unnamed: 5   54 non-null     object\n",
            " 6   Unnamed: 6   53 non-null     object\n",
            " 7   Unnamed: 7   55 non-null     object\n",
            " 8   Unnamed: 8   54 non-null     object\n",
            " 9   Unnamed: 9   53 non-null     object\n",
            " 10  Unnamed: 10  55 non-null     object\n",
            " 11  Unnamed: 11  54 non-null     object\n",
            " 12  Unnamed: 12  53 non-null     object\n",
            " 13  Unnamed: 13  55 non-null     object\n",
            " 14  Unnamed: 14  54 non-null     object\n",
            " 15  Unnamed: 15  53 non-null     object\n",
            "dtypes: object(16)\n",
            "memory usage: 7.4+ KB\n"
          ]
        }
      ]
    },
    {
      "cell_type": "code",
      "source": [
        "registration_df.info()"
      ],
      "metadata": {
        "colab": {
          "base_uri": "https://localhost:8080/"
        },
        "id": "7EGxxJxkiXjz",
        "outputId": "f61b54bb-765b-4238-887a-23bd79430415"
      },
      "execution_count": null,
      "outputs": [
        {
          "output_type": "stream",
          "name": "stdout",
          "text": [
            "<class 'pandas.core.frame.DataFrame'>\n",
            "RangeIndex: 53756 entries, 0 to 53755\n",
            "Data columns (total 5 columns):\n",
            " #   Column                      Non-Null Count  Dtype  \n",
            "---  ------                      --------------  -----  \n",
            " 0   YEAR                        53756 non-null  int64  \n",
            " 1   STATE                       53756 non-null  object \n",
            " 2   TYPE OF PRODUCER            53756 non-null  object \n",
            " 3   ENERGY SOURCE               53756 non-null  object \n",
            " 4   GENERATION (Megawatthours)  53756 non-null  float64\n",
            "dtypes: float64(1), int64(1), object(3)\n",
            "memory usage: 2.1+ MB\n"
          ]
        }
      ]
    },
    {
      "cell_type": "code",
      "source": [
        "# Check dataset dimensions and preview\n",
        "print(\"EV DF shape:\", ev_df.shape)\n",
        "print(\"All Vehicles DF shape:\", all_vehicle_df.shape)\n",
        "print(\"Energy Registration DF shape:\", registration_df.shape)\n",
        "print(\"State Codes DF shape:\", state_dv.shape)\n",
        "\n",
        "# Display a few rows to check\n",
        "ev_df.head()\n"
      ],
      "metadata": {
        "colab": {
          "base_uri": "https://localhost:8080/",
          "height": 276
        },
        "id": "q2ghJnFBvp1g",
        "outputId": "752f5d38-669f-4588-cdea-be9ad3de6332"
      },
      "execution_count": null,
      "outputs": [
        {
          "output_type": "stream",
          "name": "stdout",
          "text": [
            "EV DF shape: (50, 5)\n",
            "All Vehicles DF shape: (58, 16)\n",
            "Energy Registration DF shape: (53756, 5)\n",
            "State Codes DF shape: (51, 2)\n"
          ]
        },
        {
          "output_type": "execute_result",
          "data": {
            "text/plain": [
              "   unnamed:_0       alaska     NaN  unnamed:_3 unnamed:_4\n",
              "0         NaN      Arizona   15000         NaN        NaN\n",
              "1         NaN     Arkansas     520         NaN        NaN\n",
              "2         NaN   California  256800         NaN        NaN\n",
              "3         NaN     Colorado   11700         NaN        NaN\n",
              "4         NaN  Connecticut    4450         NaN        NaN"
            ],
            "text/html": [
              "\n",
              "  <div id=\"df-2f1c42e4-ecb7-4470-8d82-d8fc743719e0\" class=\"colab-df-container\">\n",
              "    <div>\n",
              "<style scoped>\n",
              "    .dataframe tbody tr th:only-of-type {\n",
              "        vertical-align: middle;\n",
              "    }\n",
              "\n",
              "    .dataframe tbody tr th {\n",
              "        vertical-align: top;\n",
              "    }\n",
              "\n",
              "    .dataframe thead th {\n",
              "        text-align: right;\n",
              "    }\n",
              "</style>\n",
              "<table border=\"1\" class=\"dataframe\">\n",
              "  <thead>\n",
              "    <tr style=\"text-align: right;\">\n",
              "      <th></th>\n",
              "      <th>unnamed:_0</th>\n",
              "      <th>alaska</th>\n",
              "      <th>NaN</th>\n",
              "      <th>unnamed:_3</th>\n",
              "      <th>unnamed:_4</th>\n",
              "    </tr>\n",
              "  </thead>\n",
              "  <tbody>\n",
              "    <tr>\n",
              "      <th>0</th>\n",
              "      <td>NaN</td>\n",
              "      <td>Arizona</td>\n",
              "      <td>15000</td>\n",
              "      <td>NaN</td>\n",
              "      <td>NaN</td>\n",
              "    </tr>\n",
              "    <tr>\n",
              "      <th>1</th>\n",
              "      <td>NaN</td>\n",
              "      <td>Arkansas</td>\n",
              "      <td>520</td>\n",
              "      <td>NaN</td>\n",
              "      <td>NaN</td>\n",
              "    </tr>\n",
              "    <tr>\n",
              "      <th>2</th>\n",
              "      <td>NaN</td>\n",
              "      <td>California</td>\n",
              "      <td>256800</td>\n",
              "      <td>NaN</td>\n",
              "      <td>NaN</td>\n",
              "    </tr>\n",
              "    <tr>\n",
              "      <th>3</th>\n",
              "      <td>NaN</td>\n",
              "      <td>Colorado</td>\n",
              "      <td>11700</td>\n",
              "      <td>NaN</td>\n",
              "      <td>NaN</td>\n",
              "    </tr>\n",
              "    <tr>\n",
              "      <th>4</th>\n",
              "      <td>NaN</td>\n",
              "      <td>Connecticut</td>\n",
              "      <td>4450</td>\n",
              "      <td>NaN</td>\n",
              "      <td>NaN</td>\n",
              "    </tr>\n",
              "  </tbody>\n",
              "</table>\n",
              "</div>\n",
              "    <div class=\"colab-df-buttons\">\n",
              "\n",
              "  <div class=\"colab-df-container\">\n",
              "    <button class=\"colab-df-convert\" onclick=\"convertToInteractive('df-2f1c42e4-ecb7-4470-8d82-d8fc743719e0')\"\n",
              "            title=\"Convert this dataframe to an interactive table.\"\n",
              "            style=\"display:none;\">\n",
              "\n",
              "  <svg xmlns=\"http://www.w3.org/2000/svg\" height=\"24px\" viewBox=\"0 -960 960 960\">\n",
              "    <path d=\"M120-120v-720h720v720H120Zm60-500h600v-160H180v160Zm220 220h160v-160H400v160Zm0 220h160v-160H400v160ZM180-400h160v-160H180v160Zm440 0h160v-160H620v160ZM180-180h160v-160H180v160Zm440 0h160v-160H620v160Z\"/>\n",
              "  </svg>\n",
              "    </button>\n",
              "\n",
              "  <style>\n",
              "    .colab-df-container {\n",
              "      display:flex;\n",
              "      gap: 12px;\n",
              "    }\n",
              "\n",
              "    .colab-df-convert {\n",
              "      background-color: #E8F0FE;\n",
              "      border: none;\n",
              "      border-radius: 50%;\n",
              "      cursor: pointer;\n",
              "      display: none;\n",
              "      fill: #1967D2;\n",
              "      height: 32px;\n",
              "      padding: 0 0 0 0;\n",
              "      width: 32px;\n",
              "    }\n",
              "\n",
              "    .colab-df-convert:hover {\n",
              "      background-color: #E2EBFA;\n",
              "      box-shadow: 0px 1px 2px rgba(60, 64, 67, 0.3), 0px 1px 3px 1px rgba(60, 64, 67, 0.15);\n",
              "      fill: #174EA6;\n",
              "    }\n",
              "\n",
              "    .colab-df-buttons div {\n",
              "      margin-bottom: 4px;\n",
              "    }\n",
              "\n",
              "    [theme=dark] .colab-df-convert {\n",
              "      background-color: #3B4455;\n",
              "      fill: #D2E3FC;\n",
              "    }\n",
              "\n",
              "    [theme=dark] .colab-df-convert:hover {\n",
              "      background-color: #434B5C;\n",
              "      box-shadow: 0px 1px 3px 1px rgba(0, 0, 0, 0.15);\n",
              "      filter: drop-shadow(0px 1px 2px rgba(0, 0, 0, 0.3));\n",
              "      fill: #FFFFFF;\n",
              "    }\n",
              "  </style>\n",
              "\n",
              "    <script>\n",
              "      const buttonEl =\n",
              "        document.querySelector('#df-2f1c42e4-ecb7-4470-8d82-d8fc743719e0 button.colab-df-convert');\n",
              "      buttonEl.style.display =\n",
              "        google.colab.kernel.accessAllowed ? 'block' : 'none';\n",
              "\n",
              "      async function convertToInteractive(key) {\n",
              "        const element = document.querySelector('#df-2f1c42e4-ecb7-4470-8d82-d8fc743719e0');\n",
              "        const dataTable =\n",
              "          await google.colab.kernel.invokeFunction('convertToInteractive',\n",
              "                                                    [key], {});\n",
              "        if (!dataTable) return;\n",
              "\n",
              "        const docLinkHtml = 'Like what you see? Visit the ' +\n",
              "          '<a target=\"_blank\" href=https://colab.research.google.com/notebooks/data_table.ipynb>data table notebook</a>'\n",
              "          + ' to learn more about interactive tables.';\n",
              "        element.innerHTML = '';\n",
              "        dataTable['output_type'] = 'display_data';\n",
              "        await google.colab.output.renderOutput(dataTable, element);\n",
              "        const docLink = document.createElement('div');\n",
              "        docLink.innerHTML = docLinkHtml;\n",
              "        element.appendChild(docLink);\n",
              "      }\n",
              "    </script>\n",
              "  </div>\n",
              "\n",
              "\n",
              "    <div id=\"df-7022aa0b-53ba-4dad-9316-60701c0a3d10\">\n",
              "      <button class=\"colab-df-quickchart\" onclick=\"quickchart('df-7022aa0b-53ba-4dad-9316-60701c0a3d10')\"\n",
              "                title=\"Suggest charts\"\n",
              "                style=\"display:none;\">\n",
              "\n",
              "<svg xmlns=\"http://www.w3.org/2000/svg\" height=\"24px\"viewBox=\"0 0 24 24\"\n",
              "     width=\"24px\">\n",
              "    <g>\n",
              "        <path d=\"M19 3H5c-1.1 0-2 .9-2 2v14c0 1.1.9 2 2 2h14c1.1 0 2-.9 2-2V5c0-1.1-.9-2-2-2zM9 17H7v-7h2v7zm4 0h-2V7h2v10zm4 0h-2v-4h2v4z\"/>\n",
              "    </g>\n",
              "</svg>\n",
              "      </button>\n",
              "\n",
              "<style>\n",
              "  .colab-df-quickchart {\n",
              "      --bg-color: #E8F0FE;\n",
              "      --fill-color: #1967D2;\n",
              "      --hover-bg-color: #E2EBFA;\n",
              "      --hover-fill-color: #174EA6;\n",
              "      --disabled-fill-color: #AAA;\n",
              "      --disabled-bg-color: #DDD;\n",
              "  }\n",
              "\n",
              "  [theme=dark] .colab-df-quickchart {\n",
              "      --bg-color: #3B4455;\n",
              "      --fill-color: #D2E3FC;\n",
              "      --hover-bg-color: #434B5C;\n",
              "      --hover-fill-color: #FFFFFF;\n",
              "      --disabled-bg-color: #3B4455;\n",
              "      --disabled-fill-color: #666;\n",
              "  }\n",
              "\n",
              "  .colab-df-quickchart {\n",
              "    background-color: var(--bg-color);\n",
              "    border: none;\n",
              "    border-radius: 50%;\n",
              "    cursor: pointer;\n",
              "    display: none;\n",
              "    fill: var(--fill-color);\n",
              "    height: 32px;\n",
              "    padding: 0;\n",
              "    width: 32px;\n",
              "  }\n",
              "\n",
              "  .colab-df-quickchart:hover {\n",
              "    background-color: var(--hover-bg-color);\n",
              "    box-shadow: 0 1px 2px rgba(60, 64, 67, 0.3), 0 1px 3px 1px rgba(60, 64, 67, 0.15);\n",
              "    fill: var(--button-hover-fill-color);\n",
              "  }\n",
              "\n",
              "  .colab-df-quickchart-complete:disabled,\n",
              "  .colab-df-quickchart-complete:disabled:hover {\n",
              "    background-color: var(--disabled-bg-color);\n",
              "    fill: var(--disabled-fill-color);\n",
              "    box-shadow: none;\n",
              "  }\n",
              "\n",
              "  .colab-df-spinner {\n",
              "    border: 2px solid var(--fill-color);\n",
              "    border-color: transparent;\n",
              "    border-bottom-color: var(--fill-color);\n",
              "    animation:\n",
              "      spin 1s steps(1) infinite;\n",
              "  }\n",
              "\n",
              "  @keyframes spin {\n",
              "    0% {\n",
              "      border-color: transparent;\n",
              "      border-bottom-color: var(--fill-color);\n",
              "      border-left-color: var(--fill-color);\n",
              "    }\n",
              "    20% {\n",
              "      border-color: transparent;\n",
              "      border-left-color: var(--fill-color);\n",
              "      border-top-color: var(--fill-color);\n",
              "    }\n",
              "    30% {\n",
              "      border-color: transparent;\n",
              "      border-left-color: var(--fill-color);\n",
              "      border-top-color: var(--fill-color);\n",
              "      border-right-color: var(--fill-color);\n",
              "    }\n",
              "    40% {\n",
              "      border-color: transparent;\n",
              "      border-right-color: var(--fill-color);\n",
              "      border-top-color: var(--fill-color);\n",
              "    }\n",
              "    60% {\n",
              "      border-color: transparent;\n",
              "      border-right-color: var(--fill-color);\n",
              "    }\n",
              "    80% {\n",
              "      border-color: transparent;\n",
              "      border-right-color: var(--fill-color);\n",
              "      border-bottom-color: var(--fill-color);\n",
              "    }\n",
              "    90% {\n",
              "      border-color: transparent;\n",
              "      border-bottom-color: var(--fill-color);\n",
              "    }\n",
              "  }\n",
              "</style>\n",
              "\n",
              "      <script>\n",
              "        async function quickchart(key) {\n",
              "          const quickchartButtonEl =\n",
              "            document.querySelector('#' + key + ' button');\n",
              "          quickchartButtonEl.disabled = true;  // To prevent multiple clicks.\n",
              "          quickchartButtonEl.classList.add('colab-df-spinner');\n",
              "          try {\n",
              "            const charts = await google.colab.kernel.invokeFunction(\n",
              "                'suggestCharts', [key], {});\n",
              "          } catch (error) {\n",
              "            console.error('Error during call to suggestCharts:', error);\n",
              "          }\n",
              "          quickchartButtonEl.classList.remove('colab-df-spinner');\n",
              "          quickchartButtonEl.classList.add('colab-df-quickchart-complete');\n",
              "        }\n",
              "        (() => {\n",
              "          let quickchartButtonEl =\n",
              "            document.querySelector('#df-7022aa0b-53ba-4dad-9316-60701c0a3d10 button');\n",
              "          quickchartButtonEl.style.display =\n",
              "            google.colab.kernel.accessAllowed ? 'block' : 'none';\n",
              "        })();\n",
              "      </script>\n",
              "    </div>\n",
              "\n",
              "    </div>\n",
              "  </div>\n"
            ],
            "application/vnd.google.colaboratory.intrinsic+json": {
              "type": "dataframe",
              "variable_name": "ev_df",
              "repr_error": "Out of range float values are not JSON compliant: nan"
            }
          },
          "metadata": {},
          "execution_count": 16
        }
      ]
    },
    {
      "cell_type": "markdown",
      "source": [
        "# **Task 2**"
      ],
      "metadata": {
        "id": "9x8OxMrIfuzT"
      }
    },
    {
      "cell_type": "code",
      "source": [
        "# Reload the EV dataset without header\n",
        "temp_df = pd.read_excel('/content/States_Electric_Vehicle_Registrations_2018.xlsx', skiprows=4, header=None)\n",
        "\n",
        "# Display the first few rows to check what’s useful\n",
        "print(temp_df.head(10))\n"
      ],
      "metadata": {
        "colab": {
          "base_uri": "https://localhost:8080/"
        },
        "id": "JYV82dDr2wqp",
        "outputId": "eebddf52-497c-458a-860d-a296e8743130"
      },
      "execution_count": null,
      "outputs": [
        {
          "output_type": "stream",
          "name": "stdout",
          "text": [
            "    0                     1       2   3    4\n",
            "0 NaN                Alaska     530 NaN  NaN\n",
            "1 NaN               Arizona   15000 NaN  NaN\n",
            "2 NaN              Arkansas     520 NaN  NaN\n",
            "3 NaN            California  256800 NaN  NaN\n",
            "4 NaN              Colorado   11700 NaN  NaN\n",
            "5 NaN           Connecticut    4450 NaN  NaN\n",
            "6 NaN              Delaware     720 NaN  NaN\n",
            "7 NaN  District Of Columbia     970 NaN  NaN\n",
            "8 NaN               Florida   25200 NaN  NaN\n",
            "9 NaN               Georgia   15300 NaN  NaN\n"
          ]
        }
      ]
    },
    {
      "cell_type": "code",
      "source": [
        "# Select relevant columns (State and EV count)\n",
        "ev_df = temp_df.iloc[:, [1, 2]]\n",
        "ev_df.columns = ['state', 'ev_registrations']\n",
        "\n",
        "# Drop rows with missing state names\n",
        "ev_df.dropna(subset=['state'], inplace=True)\n",
        "\n",
        "# Reset index\n",
        "ev_df.reset_index(drop=True, inplace=True)\n",
        "\n",
        "# Check cleaned version\n",
        "print(ev_df.head())\n"
      ],
      "metadata": {
        "colab": {
          "base_uri": "https://localhost:8080/"
        },
        "id": "Tv73vFXv3AGw",
        "outputId": "3d021a4f-5157-4941-98ac-dd0efc4300e8"
      },
      "execution_count": null,
      "outputs": [
        {
          "output_type": "stream",
          "name": "stdout",
          "text": [
            "        state  ev_registrations\n",
            "0      Alaska               530\n",
            "1     Arizona             15000\n",
            "2    Arkansas               520\n",
            "3  California            256800\n",
            "4    Colorado             11700\n"
          ]
        },
        {
          "output_type": "stream",
          "name": "stderr",
          "text": [
            "/tmp/ipython-input-852093442.py:6: SettingWithCopyWarning: \n",
            "A value is trying to be set on a copy of a slice from a DataFrame\n",
            "\n",
            "See the caveats in the documentation: https://pandas.pydata.org/pandas-docs/stable/user_guide/indexing.html#returning-a-view-versus-a-copy\n",
            "  ev_df.dropna(subset=['state'], inplace=True)\n"
          ]
        }
      ]
    },
    {
      "cell_type": "code",
      "source": [
        "# Load without headers (manual)\n",
        "temp_all_vehicle = pd.read_excel('/content/States_All_Vehicle_Registrations_2018.xlsx', skiprows=6, header=None)\n",
        "\n",
        "# Check the structure\n",
        "print(temp_all_vehicle.head(10))\n"
      ],
      "metadata": {
        "colab": {
          "base_uri": "https://localhost:8080/"
        },
        "id": "Po90O3Nb3HQJ",
        "outputId": "74fddfe2-1e34-4745-f900-12e549dd1a58"
      },
      "execution_count": null,
      "outputs": [
        {
          "output_type": "stream",
          "name": "stdout",
          "text": [
            "         0            1          2        3             4            5   \\\n",
            "0       NaN          NaN        NaN      NaN           NaN          NaN   \n",
            "1       NaN  AUTOMOBILES        NaN      NaN         BUSES          NaN   \n",
            "2     STATE  PRIVATE AND        NaN      NaN           NaN          NaN   \n",
            "3       NaN   COMMERCIAL   PUBLICLY      NaN   PRIVATE AND     PUBLICLY   \n",
            "4       NaN   (INCLUDING  OWNED (1)    TOTAL    COMMERCIAL    OWNED (1)   \n",
            "5       NaN    TAXICABS)        NaN      NaN           NaN          NaN   \n",
            "6   Alabama      2116626      44586  2161212   5633.635236   132.974093   \n",
            "7   Alaska        179131       4139   183270          7856   617.322626   \n",
            "8   Arizona      2372443      19329  2391772   1391.050584  6958.088141   \n",
            "9  Arkansas       908561      12600   921161  11290.281712   715.885705   \n",
            "\n",
            "             6            7             8               9            10  \\\n",
            "0           NaN          NaN           NaN             NaN          NaN   \n",
            "1           NaN       TRUCKS           NaN             NaN  MOTORCYCLES   \n",
            "2           NaN          NaN           NaN             NaN          NaN   \n",
            "3           NaN  PRIVATE AND      PUBLICLY             NaN  PRIVATE AND   \n",
            "4         TOTAL   COMMERCIAL     OWNED (1)           TOTAL   COMMERCIAL   \n",
            "5           NaN          NaN           NaN             NaN          NaN   \n",
            "6   5766.609329      2955947   67261.40963   3023208.40963       109060   \n",
            "7   8473.322626       563583  16807.236526   580390.236526        31542   \n",
            "8   8349.138725      3196426  39491.535925  3235917.535925       170271   \n",
            "9  12006.167417      1765374  27477.128806  1792851.128806        91127   \n",
            "\n",
            "           11             12                  13             14  \\\n",
            "0         NaN            NaN                 NaN            NaN   \n",
            "1         NaN            NaN  ALL MOTOR VEHICLES            NaN   \n",
            "2         NaN            NaN                 NaN            NaN   \n",
            "3    PUBLICLY            NaN         PRIVATE AND       PUBLICLY   \n",
            "4   OWNED (1)          TOTAL          COMMERCIAL      OWNED (1)   \n",
            "5         NaN            NaN                 NaN            NaN   \n",
            "6  952.135108  110012.135108      5187266.635236  112932.518832   \n",
            "7           8          31550              782112   21571.559152   \n",
            "8           3         170274      5740531.050584   65781.624066   \n",
            "9           0          91127      2776352.281712    40793.01451   \n",
            "\n",
            "               15  \n",
            "0             NaN  \n",
            "1             NaN  \n",
            "2             NaN  \n",
            "3             NaN  \n",
            "4           TOTAL  \n",
            "5             NaN  \n",
            "6  5300199.154068  \n",
            "7   803683.559152  \n",
            "8  5806312.674649  \n",
            "9  2817145.296223  \n"
          ]
        }
      ]
    },
    {
      "cell_type": "code",
      "source": [
        "# Let's assume Column 1 is state and Column 2 is total vehicle registrations\n",
        "all_vehicle_df = temp_all_vehicle.iloc[:, [1, 2]]  # Adjust columns as per your data\n",
        "all_vehicle_df.columns = ['state', 'all_vehicles']\n",
        "\n",
        "# Clean NaNs\n",
        "all_vehicle_df.dropna(subset=['state'], inplace=True)\n",
        "all_vehicle_df.reset_index(drop=True, inplace=True)\n",
        "\n",
        "print(all_vehicle_df.head())\n"
      ],
      "metadata": {
        "colab": {
          "base_uri": "https://localhost:8080/"
        },
        "id": "hBlOjJv63Xyg",
        "outputId": "19a5d46f-637a-45d1-c2ab-e257a9060f99"
      },
      "execution_count": null,
      "outputs": [
        {
          "output_type": "stream",
          "name": "stdout",
          "text": [
            "         state all_vehicles\n",
            "0  AUTOMOBILES          NaN\n",
            "1  PRIVATE AND          NaN\n",
            "2   COMMERCIAL     PUBLICLY\n",
            "3   (INCLUDING    OWNED (1)\n",
            "4    TAXICABS)          NaN\n"
          ]
        },
        {
          "output_type": "stream",
          "name": "stderr",
          "text": [
            "/tmp/ipython-input-256316268.py:6: SettingWithCopyWarning: \n",
            "A value is trying to be set on a copy of a slice from a DataFrame\n",
            "\n",
            "See the caveats in the documentation: https://pandas.pydata.org/pandas-docs/stable/user_guide/indexing.html#returning-a-view-versus-a-copy\n",
            "  all_vehicle_df.dropna(subset=['state'], inplace=True)\n"
          ]
        }
      ]
    },
    {
      "cell_type": "code",
      "source": [
        "# Reload with more rows skipped\n",
        "temp_all_vehicle = pd.read_excel('/content/States_All_Vehicle_Registrations_2018.xlsx', skiprows=10, header=None)\n",
        "\n",
        "# Preview it again\n",
        "print(temp_all_vehicle.head(10))\n"
      ],
      "metadata": {
        "colab": {
          "base_uri": "https://localhost:8080/"
        },
        "id": "DjA0aREE3f-h",
        "outputId": "e6d6bc4d-fc5d-4f83-b979-63382008e1ce"
      },
      "execution_count": null,
      "outputs": [
        {
          "output_type": "stream",
          "name": "stdout",
          "text": [
            "             0           1          2         3             4             5   \\\n",
            "0           NaN  (INCLUDING  OWNED (1)     TOTAL    COMMERCIAL     OWNED (1)   \n",
            "1           NaN   TAXICABS)        NaN       NaN           NaN           NaN   \n",
            "2       Alabama     2116626      44586   2161212   5633.635236    132.974093   \n",
            "3       Alaska       179131       4139    183270          7856    617.322626   \n",
            "4       Arizona     2372443      19329   2391772   1391.050584   6958.088141   \n",
            "5      Arkansas      908561      12600    921161  11290.281712    715.885705   \n",
            "6   California     14820833     244994  15065827         34437  65255.244456   \n",
            "7     Colorado      1782358      15819   1798177          5718   7585.100032   \n",
            "8  Connecticut      1305544       1165   1306709  11717.810911     35.592047   \n",
            "9     Delaware       431850       1513    433363   3351.781644    450.409895   \n",
            "\n",
            "             6           7              8                9           10  \\\n",
            "0         TOTAL  COMMERCIAL      OWNED (1)            TOTAL  COMMERCIAL   \n",
            "1           NaN         NaN            NaN              NaN         NaN   \n",
            "2   5766.609329     2955947    67261.40963    3023208.40963      109060   \n",
            "3   8473.322626      563583   16807.236526    580390.236526       31542   \n",
            "4   8349.138725     3196426   39491.535925   3235917.535925      170271   \n",
            "5  12006.167417     1765374   27477.128806   1792851.128806       91127   \n",
            "6  99692.244456    14739522  294442.632872  15033964.632872      808889   \n",
            "7  13303.100032     3314999   38669.761806   3353668.761806      190735   \n",
            "8  11753.402959     1468599    5080.373267   1473679.373267       87640   \n",
            "9   3802.191539      540225    3006.443815    543231.443815       28071   \n",
            "\n",
            "           11             12              13             14               15  \n",
            "0   OWNED (1)          TOTAL      COMMERCIAL      OWNED (1)            TOTAL  \n",
            "1         NaN            NaN             NaN            NaN              NaN  \n",
            "2  952.135108  110012.135108  5187266.635236  112932.518832   5300199.154068  \n",
            "3           8          31550          782112   21571.559152    803683.559152  \n",
            "4           3         170274  5740531.050584   65781.624066   5806312.674649  \n",
            "5           0          91127  2776352.281712    40793.01451   2817145.296223  \n",
            "6       13955         822844        30403681  618646.877329  31022327.877329  \n",
            "7         134         190869         5293810   62207.861838   5356017.861838  \n",
            "8    19.77336    87659.77336  2873500.810911    6300.738674   2879801.549585  \n",
            "9           0          28071  1003497.781644     4969.85371   1008467.635354  \n"
          ]
        }
      ]
    },
    {
      "cell_type": "code",
      "source": [
        "# Adjust the column indexes if needed\n",
        "all_vehicle_df = temp_all_vehicle.iloc[:, [1, 2]]  # Adjust if actual data is elsewhere\n",
        "all_vehicle_df.columns = ['state', 'all_vehicles']\n",
        "\n",
        "# Clean up\n",
        "all_vehicle_df.dropna(subset=['state'], inplace=True)\n",
        "all_vehicle_df.reset_index(drop=True, inplace=True)\n",
        "\n",
        "print(all_vehicle_df.head())\n"
      ],
      "metadata": {
        "colab": {
          "base_uri": "https://localhost:8080/"
        },
        "id": "ewdf4B4B3s8A",
        "outputId": "4d1e8821-83de-4704-f69e-1cf0b6a15fcc"
      },
      "execution_count": null,
      "outputs": [
        {
          "output_type": "stream",
          "name": "stdout",
          "text": [
            "        state all_vehicles\n",
            "0  (INCLUDING    OWNED (1)\n",
            "1   TAXICABS)          NaN\n",
            "2     2116626        44586\n",
            "3      179131         4139\n",
            "4     2372443        19329\n"
          ]
        },
        {
          "output_type": "stream",
          "name": "stderr",
          "text": [
            "/tmp/ipython-input-2544560572.py:6: SettingWithCopyWarning: \n",
            "A value is trying to be set on a copy of a slice from a DataFrame\n",
            "\n",
            "See the caveats in the documentation: https://pandas.pydata.org/pandas-docs/stable/user_guide/indexing.html#returning-a-view-versus-a-copy\n",
            "  all_vehicle_df.dropna(subset=['state'], inplace=True)\n"
          ]
        }
      ]
    },
    {
      "cell_type": "code",
      "source": [
        "# Test by skipping more rows\n",
        "temp_all_vehicle = pd.read_excel('/content/States_All_Vehicle_Registrations_2018.xlsx', skiprows=12, header=None)\n",
        "\n",
        "# Show first 10 rows\n",
        "temp_all_vehicle.head(10)\n"
      ],
      "metadata": {
        "colab": {
          "base_uri": "https://localhost:8080/",
          "height": 363
        },
        "id": "KWbWwluU3xJM",
        "outputId": "edb28050-abfe-47f8-bf3b-374969c2c204"
      },
      "execution_count": null,
      "outputs": [
        {
          "output_type": "execute_result",
          "data": {
            "text/plain": [
              "               0           1         2           3             4   \\\n",
              "0         Alabama   2116626.0   44586.0   2161212.0   5633.635236   \n",
              "1         Alaska     179131.0    4139.0    183270.0   7856.000000   \n",
              "2         Arizona   2372443.0   19329.0   2391772.0   1391.050584   \n",
              "3        Arkansas    908561.0   12600.0    921161.0  11290.281712   \n",
              "4     California   14820833.0  244994.0  15065827.0  34437.000000   \n",
              "5       Colorado    1782358.0   15819.0   1798177.0   5718.000000   \n",
              "6    Connecticut    1305544.0    1165.0   1306709.0  11717.810911   \n",
              "7       Delaware     431850.0    1513.0    433363.0   3351.781644   \n",
              "8  Dist. of Col.     188768.0   20955.0    209723.0   1012.000000   \n",
              "9        Florida    7851192.0  114899.0   7966091.0  24961.000000   \n",
              "\n",
              "             5             6           7              8             9   \\\n",
              "0    132.974093   5766.609329   2955947.0   67261.409630  3.023208e+06   \n",
              "1    617.322626   8473.322626    563583.0   16807.236526  5.803902e+05   \n",
              "2   6958.088141   8349.138725   3196426.0   39491.535925  3.235918e+06   \n",
              "3    715.885705  12006.167417   1765374.0   27477.128806  1.792851e+06   \n",
              "4  65255.244456  99692.244456  14739522.0  294442.632872  1.503396e+07   \n",
              "5   7585.100032  13303.100032   3314999.0   38669.761806  3.353669e+06   \n",
              "6     35.592047  11753.402959   1468599.0    5080.373267  1.473679e+06   \n",
              "7    450.409895   3802.191539    540225.0    3006.443815  5.432314e+05   \n",
              "8   4076.020214   5088.020214    113705.0   19104.587311  1.328096e+05   \n",
              "9  34596.396322  59557.396322   8733121.0  149733.527079  8.882855e+06   \n",
              "\n",
              "         10            11             12            13             14  \\\n",
              "0  109060.0    952.135108  110012.135108  5.187267e+06  112932.518832   \n",
              "1   31542.0      8.000000   31550.000000  7.821120e+05   21571.559152   \n",
              "2  170271.0      3.000000  170274.000000  5.740531e+06   65781.624066   \n",
              "3   91127.0      0.000000   91127.000000  2.776352e+06   40793.014510   \n",
              "4  808889.0  13955.000000  822844.000000  3.040368e+07  618646.877329   \n",
              "5  190735.0    134.000000  190869.000000  5.293810e+06   62207.861838   \n",
              "6   87640.0     19.773360   87659.773360  2.873501e+06    6300.738674   \n",
              "7   28071.0      0.000000   28071.000000  1.003498e+06    4969.853710   \n",
              "8    3911.0    401.000000    4312.000000  3.073960e+05   44536.607525   \n",
              "9  584851.0   2648.000000  587499.000000  1.719412e+07  301876.923401   \n",
              "\n",
              "             15  \n",
              "0  5.300199e+06  \n",
              "1  8.036836e+05  \n",
              "2  5.806313e+06  \n",
              "3  2.817145e+06  \n",
              "4  3.102233e+07  \n",
              "5  5.356018e+06  \n",
              "6  2.879802e+06  \n",
              "7  1.008468e+06  \n",
              "8  3.519326e+05  \n",
              "9  1.749600e+07  "
            ],
            "text/html": [
              "\n",
              "  <div id=\"df-2b056581-4f32-48de-a4d4-d4ac542912ae\" class=\"colab-df-container\">\n",
              "    <div>\n",
              "<style scoped>\n",
              "    .dataframe tbody tr th:only-of-type {\n",
              "        vertical-align: middle;\n",
              "    }\n",
              "\n",
              "    .dataframe tbody tr th {\n",
              "        vertical-align: top;\n",
              "    }\n",
              "\n",
              "    .dataframe thead th {\n",
              "        text-align: right;\n",
              "    }\n",
              "</style>\n",
              "<table border=\"1\" class=\"dataframe\">\n",
              "  <thead>\n",
              "    <tr style=\"text-align: right;\">\n",
              "      <th></th>\n",
              "      <th>0</th>\n",
              "      <th>1</th>\n",
              "      <th>2</th>\n",
              "      <th>3</th>\n",
              "      <th>4</th>\n",
              "      <th>5</th>\n",
              "      <th>6</th>\n",
              "      <th>7</th>\n",
              "      <th>8</th>\n",
              "      <th>9</th>\n",
              "      <th>10</th>\n",
              "      <th>11</th>\n",
              "      <th>12</th>\n",
              "      <th>13</th>\n",
              "      <th>14</th>\n",
              "      <th>15</th>\n",
              "    </tr>\n",
              "  </thead>\n",
              "  <tbody>\n",
              "    <tr>\n",
              "      <th>0</th>\n",
              "      <td>Alabama</td>\n",
              "      <td>2116626.0</td>\n",
              "      <td>44586.0</td>\n",
              "      <td>2161212.0</td>\n",
              "      <td>5633.635236</td>\n",
              "      <td>132.974093</td>\n",
              "      <td>5766.609329</td>\n",
              "      <td>2955947.0</td>\n",
              "      <td>67261.409630</td>\n",
              "      <td>3.023208e+06</td>\n",
              "      <td>109060.0</td>\n",
              "      <td>952.135108</td>\n",
              "      <td>110012.135108</td>\n",
              "      <td>5.187267e+06</td>\n",
              "      <td>112932.518832</td>\n",
              "      <td>5.300199e+06</td>\n",
              "    </tr>\n",
              "    <tr>\n",
              "      <th>1</th>\n",
              "      <td>Alaska</td>\n",
              "      <td>179131.0</td>\n",
              "      <td>4139.0</td>\n",
              "      <td>183270.0</td>\n",
              "      <td>7856.000000</td>\n",
              "      <td>617.322626</td>\n",
              "      <td>8473.322626</td>\n",
              "      <td>563583.0</td>\n",
              "      <td>16807.236526</td>\n",
              "      <td>5.803902e+05</td>\n",
              "      <td>31542.0</td>\n",
              "      <td>8.000000</td>\n",
              "      <td>31550.000000</td>\n",
              "      <td>7.821120e+05</td>\n",
              "      <td>21571.559152</td>\n",
              "      <td>8.036836e+05</td>\n",
              "    </tr>\n",
              "    <tr>\n",
              "      <th>2</th>\n",
              "      <td>Arizona</td>\n",
              "      <td>2372443.0</td>\n",
              "      <td>19329.0</td>\n",
              "      <td>2391772.0</td>\n",
              "      <td>1391.050584</td>\n",
              "      <td>6958.088141</td>\n",
              "      <td>8349.138725</td>\n",
              "      <td>3196426.0</td>\n",
              "      <td>39491.535925</td>\n",
              "      <td>3.235918e+06</td>\n",
              "      <td>170271.0</td>\n",
              "      <td>3.000000</td>\n",
              "      <td>170274.000000</td>\n",
              "      <td>5.740531e+06</td>\n",
              "      <td>65781.624066</td>\n",
              "      <td>5.806313e+06</td>\n",
              "    </tr>\n",
              "    <tr>\n",
              "      <th>3</th>\n",
              "      <td>Arkansas</td>\n",
              "      <td>908561.0</td>\n",
              "      <td>12600.0</td>\n",
              "      <td>921161.0</td>\n",
              "      <td>11290.281712</td>\n",
              "      <td>715.885705</td>\n",
              "      <td>12006.167417</td>\n",
              "      <td>1765374.0</td>\n",
              "      <td>27477.128806</td>\n",
              "      <td>1.792851e+06</td>\n",
              "      <td>91127.0</td>\n",
              "      <td>0.000000</td>\n",
              "      <td>91127.000000</td>\n",
              "      <td>2.776352e+06</td>\n",
              "      <td>40793.014510</td>\n",
              "      <td>2.817145e+06</td>\n",
              "    </tr>\n",
              "    <tr>\n",
              "      <th>4</th>\n",
              "      <td>California</td>\n",
              "      <td>14820833.0</td>\n",
              "      <td>244994.0</td>\n",
              "      <td>15065827.0</td>\n",
              "      <td>34437.000000</td>\n",
              "      <td>65255.244456</td>\n",
              "      <td>99692.244456</td>\n",
              "      <td>14739522.0</td>\n",
              "      <td>294442.632872</td>\n",
              "      <td>1.503396e+07</td>\n",
              "      <td>808889.0</td>\n",
              "      <td>13955.000000</td>\n",
              "      <td>822844.000000</td>\n",
              "      <td>3.040368e+07</td>\n",
              "      <td>618646.877329</td>\n",
              "      <td>3.102233e+07</td>\n",
              "    </tr>\n",
              "    <tr>\n",
              "      <th>5</th>\n",
              "      <td>Colorado</td>\n",
              "      <td>1782358.0</td>\n",
              "      <td>15819.0</td>\n",
              "      <td>1798177.0</td>\n",
              "      <td>5718.000000</td>\n",
              "      <td>7585.100032</td>\n",
              "      <td>13303.100032</td>\n",
              "      <td>3314999.0</td>\n",
              "      <td>38669.761806</td>\n",
              "      <td>3.353669e+06</td>\n",
              "      <td>190735.0</td>\n",
              "      <td>134.000000</td>\n",
              "      <td>190869.000000</td>\n",
              "      <td>5.293810e+06</td>\n",
              "      <td>62207.861838</td>\n",
              "      <td>5.356018e+06</td>\n",
              "    </tr>\n",
              "    <tr>\n",
              "      <th>6</th>\n",
              "      <td>Connecticut</td>\n",
              "      <td>1305544.0</td>\n",
              "      <td>1165.0</td>\n",
              "      <td>1306709.0</td>\n",
              "      <td>11717.810911</td>\n",
              "      <td>35.592047</td>\n",
              "      <td>11753.402959</td>\n",
              "      <td>1468599.0</td>\n",
              "      <td>5080.373267</td>\n",
              "      <td>1.473679e+06</td>\n",
              "      <td>87640.0</td>\n",
              "      <td>19.773360</td>\n",
              "      <td>87659.773360</td>\n",
              "      <td>2.873501e+06</td>\n",
              "      <td>6300.738674</td>\n",
              "      <td>2.879802e+06</td>\n",
              "    </tr>\n",
              "    <tr>\n",
              "      <th>7</th>\n",
              "      <td>Delaware</td>\n",
              "      <td>431850.0</td>\n",
              "      <td>1513.0</td>\n",
              "      <td>433363.0</td>\n",
              "      <td>3351.781644</td>\n",
              "      <td>450.409895</td>\n",
              "      <td>3802.191539</td>\n",
              "      <td>540225.0</td>\n",
              "      <td>3006.443815</td>\n",
              "      <td>5.432314e+05</td>\n",
              "      <td>28071.0</td>\n",
              "      <td>0.000000</td>\n",
              "      <td>28071.000000</td>\n",
              "      <td>1.003498e+06</td>\n",
              "      <td>4969.853710</td>\n",
              "      <td>1.008468e+06</td>\n",
              "    </tr>\n",
              "    <tr>\n",
              "      <th>8</th>\n",
              "      <td>Dist. of Col.</td>\n",
              "      <td>188768.0</td>\n",
              "      <td>20955.0</td>\n",
              "      <td>209723.0</td>\n",
              "      <td>1012.000000</td>\n",
              "      <td>4076.020214</td>\n",
              "      <td>5088.020214</td>\n",
              "      <td>113705.0</td>\n",
              "      <td>19104.587311</td>\n",
              "      <td>1.328096e+05</td>\n",
              "      <td>3911.0</td>\n",
              "      <td>401.000000</td>\n",
              "      <td>4312.000000</td>\n",
              "      <td>3.073960e+05</td>\n",
              "      <td>44536.607525</td>\n",
              "      <td>3.519326e+05</td>\n",
              "    </tr>\n",
              "    <tr>\n",
              "      <th>9</th>\n",
              "      <td>Florida</td>\n",
              "      <td>7851192.0</td>\n",
              "      <td>114899.0</td>\n",
              "      <td>7966091.0</td>\n",
              "      <td>24961.000000</td>\n",
              "      <td>34596.396322</td>\n",
              "      <td>59557.396322</td>\n",
              "      <td>8733121.0</td>\n",
              "      <td>149733.527079</td>\n",
              "      <td>8.882855e+06</td>\n",
              "      <td>584851.0</td>\n",
              "      <td>2648.000000</td>\n",
              "      <td>587499.000000</td>\n",
              "      <td>1.719412e+07</td>\n",
              "      <td>301876.923401</td>\n",
              "      <td>1.749600e+07</td>\n",
              "    </tr>\n",
              "  </tbody>\n",
              "</table>\n",
              "</div>\n",
              "    <div class=\"colab-df-buttons\">\n",
              "\n",
              "  <div class=\"colab-df-container\">\n",
              "    <button class=\"colab-df-convert\" onclick=\"convertToInteractive('df-2b056581-4f32-48de-a4d4-d4ac542912ae')\"\n",
              "            title=\"Convert this dataframe to an interactive table.\"\n",
              "            style=\"display:none;\">\n",
              "\n",
              "  <svg xmlns=\"http://www.w3.org/2000/svg\" height=\"24px\" viewBox=\"0 -960 960 960\">\n",
              "    <path d=\"M120-120v-720h720v720H120Zm60-500h600v-160H180v160Zm220 220h160v-160H400v160Zm0 220h160v-160H400v160ZM180-400h160v-160H180v160Zm440 0h160v-160H620v160ZM180-180h160v-160H180v160Zm440 0h160v-160H620v160Z\"/>\n",
              "  </svg>\n",
              "    </button>\n",
              "\n",
              "  <style>\n",
              "    .colab-df-container {\n",
              "      display:flex;\n",
              "      gap: 12px;\n",
              "    }\n",
              "\n",
              "    .colab-df-convert {\n",
              "      background-color: #E8F0FE;\n",
              "      border: none;\n",
              "      border-radius: 50%;\n",
              "      cursor: pointer;\n",
              "      display: none;\n",
              "      fill: #1967D2;\n",
              "      height: 32px;\n",
              "      padding: 0 0 0 0;\n",
              "      width: 32px;\n",
              "    }\n",
              "\n",
              "    .colab-df-convert:hover {\n",
              "      background-color: #E2EBFA;\n",
              "      box-shadow: 0px 1px 2px rgba(60, 64, 67, 0.3), 0px 1px 3px 1px rgba(60, 64, 67, 0.15);\n",
              "      fill: #174EA6;\n",
              "    }\n",
              "\n",
              "    .colab-df-buttons div {\n",
              "      margin-bottom: 4px;\n",
              "    }\n",
              "\n",
              "    [theme=dark] .colab-df-convert {\n",
              "      background-color: #3B4455;\n",
              "      fill: #D2E3FC;\n",
              "    }\n",
              "\n",
              "    [theme=dark] .colab-df-convert:hover {\n",
              "      background-color: #434B5C;\n",
              "      box-shadow: 0px 1px 3px 1px rgba(0, 0, 0, 0.15);\n",
              "      filter: drop-shadow(0px 1px 2px rgba(0, 0, 0, 0.3));\n",
              "      fill: #FFFFFF;\n",
              "    }\n",
              "  </style>\n",
              "\n",
              "    <script>\n",
              "      const buttonEl =\n",
              "        document.querySelector('#df-2b056581-4f32-48de-a4d4-d4ac542912ae button.colab-df-convert');\n",
              "      buttonEl.style.display =\n",
              "        google.colab.kernel.accessAllowed ? 'block' : 'none';\n",
              "\n",
              "      async function convertToInteractive(key) {\n",
              "        const element = document.querySelector('#df-2b056581-4f32-48de-a4d4-d4ac542912ae');\n",
              "        const dataTable =\n",
              "          await google.colab.kernel.invokeFunction('convertToInteractive',\n",
              "                                                    [key], {});\n",
              "        if (!dataTable) return;\n",
              "\n",
              "        const docLinkHtml = 'Like what you see? Visit the ' +\n",
              "          '<a target=\"_blank\" href=https://colab.research.google.com/notebooks/data_table.ipynb>data table notebook</a>'\n",
              "          + ' to learn more about interactive tables.';\n",
              "        element.innerHTML = '';\n",
              "        dataTable['output_type'] = 'display_data';\n",
              "        await google.colab.output.renderOutput(dataTable, element);\n",
              "        const docLink = document.createElement('div');\n",
              "        docLink.innerHTML = docLinkHtml;\n",
              "        element.appendChild(docLink);\n",
              "      }\n",
              "    </script>\n",
              "  </div>\n",
              "\n",
              "\n",
              "    <div id=\"df-f012ac2f-b325-40db-858c-4ce3e85ece86\">\n",
              "      <button class=\"colab-df-quickchart\" onclick=\"quickchart('df-f012ac2f-b325-40db-858c-4ce3e85ece86')\"\n",
              "                title=\"Suggest charts\"\n",
              "                style=\"display:none;\">\n",
              "\n",
              "<svg xmlns=\"http://www.w3.org/2000/svg\" height=\"24px\"viewBox=\"0 0 24 24\"\n",
              "     width=\"24px\">\n",
              "    <g>\n",
              "        <path d=\"M19 3H5c-1.1 0-2 .9-2 2v14c0 1.1.9 2 2 2h14c1.1 0 2-.9 2-2V5c0-1.1-.9-2-2-2zM9 17H7v-7h2v7zm4 0h-2V7h2v10zm4 0h-2v-4h2v4z\"/>\n",
              "    </g>\n",
              "</svg>\n",
              "      </button>\n",
              "\n",
              "<style>\n",
              "  .colab-df-quickchart {\n",
              "      --bg-color: #E8F0FE;\n",
              "      --fill-color: #1967D2;\n",
              "      --hover-bg-color: #E2EBFA;\n",
              "      --hover-fill-color: #174EA6;\n",
              "      --disabled-fill-color: #AAA;\n",
              "      --disabled-bg-color: #DDD;\n",
              "  }\n",
              "\n",
              "  [theme=dark] .colab-df-quickchart {\n",
              "      --bg-color: #3B4455;\n",
              "      --fill-color: #D2E3FC;\n",
              "      --hover-bg-color: #434B5C;\n",
              "      --hover-fill-color: #FFFFFF;\n",
              "      --disabled-bg-color: #3B4455;\n",
              "      --disabled-fill-color: #666;\n",
              "  }\n",
              "\n",
              "  .colab-df-quickchart {\n",
              "    background-color: var(--bg-color);\n",
              "    border: none;\n",
              "    border-radius: 50%;\n",
              "    cursor: pointer;\n",
              "    display: none;\n",
              "    fill: var(--fill-color);\n",
              "    height: 32px;\n",
              "    padding: 0;\n",
              "    width: 32px;\n",
              "  }\n",
              "\n",
              "  .colab-df-quickchart:hover {\n",
              "    background-color: var(--hover-bg-color);\n",
              "    box-shadow: 0 1px 2px rgba(60, 64, 67, 0.3), 0 1px 3px 1px rgba(60, 64, 67, 0.15);\n",
              "    fill: var(--button-hover-fill-color);\n",
              "  }\n",
              "\n",
              "  .colab-df-quickchart-complete:disabled,\n",
              "  .colab-df-quickchart-complete:disabled:hover {\n",
              "    background-color: var(--disabled-bg-color);\n",
              "    fill: var(--disabled-fill-color);\n",
              "    box-shadow: none;\n",
              "  }\n",
              "\n",
              "  .colab-df-spinner {\n",
              "    border: 2px solid var(--fill-color);\n",
              "    border-color: transparent;\n",
              "    border-bottom-color: var(--fill-color);\n",
              "    animation:\n",
              "      spin 1s steps(1) infinite;\n",
              "  }\n",
              "\n",
              "  @keyframes spin {\n",
              "    0% {\n",
              "      border-color: transparent;\n",
              "      border-bottom-color: var(--fill-color);\n",
              "      border-left-color: var(--fill-color);\n",
              "    }\n",
              "    20% {\n",
              "      border-color: transparent;\n",
              "      border-left-color: var(--fill-color);\n",
              "      border-top-color: var(--fill-color);\n",
              "    }\n",
              "    30% {\n",
              "      border-color: transparent;\n",
              "      border-left-color: var(--fill-color);\n",
              "      border-top-color: var(--fill-color);\n",
              "      border-right-color: var(--fill-color);\n",
              "    }\n",
              "    40% {\n",
              "      border-color: transparent;\n",
              "      border-right-color: var(--fill-color);\n",
              "      border-top-color: var(--fill-color);\n",
              "    }\n",
              "    60% {\n",
              "      border-color: transparent;\n",
              "      border-right-color: var(--fill-color);\n",
              "    }\n",
              "    80% {\n",
              "      border-color: transparent;\n",
              "      border-right-color: var(--fill-color);\n",
              "      border-bottom-color: var(--fill-color);\n",
              "    }\n",
              "    90% {\n",
              "      border-color: transparent;\n",
              "      border-bottom-color: var(--fill-color);\n",
              "    }\n",
              "  }\n",
              "</style>\n",
              "\n",
              "      <script>\n",
              "        async function quickchart(key) {\n",
              "          const quickchartButtonEl =\n",
              "            document.querySelector('#' + key + ' button');\n",
              "          quickchartButtonEl.disabled = true;  // To prevent multiple clicks.\n",
              "          quickchartButtonEl.classList.add('colab-df-spinner');\n",
              "          try {\n",
              "            const charts = await google.colab.kernel.invokeFunction(\n",
              "                'suggestCharts', [key], {});\n",
              "          } catch (error) {\n",
              "            console.error('Error during call to suggestCharts:', error);\n",
              "          }\n",
              "          quickchartButtonEl.classList.remove('colab-df-spinner');\n",
              "          quickchartButtonEl.classList.add('colab-df-quickchart-complete');\n",
              "        }\n",
              "        (() => {\n",
              "          let quickchartButtonEl =\n",
              "            document.querySelector('#df-f012ac2f-b325-40db-858c-4ce3e85ece86 button');\n",
              "          quickchartButtonEl.style.display =\n",
              "            google.colab.kernel.accessAllowed ? 'block' : 'none';\n",
              "        })();\n",
              "      </script>\n",
              "    </div>\n",
              "\n",
              "    </div>\n",
              "  </div>\n"
            ],
            "application/vnd.google.colaboratory.intrinsic+json": {
              "type": "dataframe",
              "variable_name": "temp_all_vehicle",
              "summary": "{\n  \"name\": \"temp_all_vehicle\",\n  \"rows\": 53,\n  \"fields\": [\n    {\n      \"column\": 0,\n      \"properties\": {\n        \"dtype\": \"string\",\n        \"num_unique_values\": 53,\n        \"samples\": [\n          \"Maine \",\n          \"South Dakota \",\n          \"Washington \"\n        ],\n        \"semantic_type\": \"\",\n        \"description\": \"\"\n      }\n    },\n    {\n      \"column\": 1,\n      \"properties\": {\n        \"dtype\": \"number\",\n        \"std\": 15137224.460456897,\n        \"min\": 179131.0,\n        \"max\": 109813571.0,\n        \"num_unique_values\": 52,\n        \"samples\": [\n          386449.0,\n          352997.0,\n          2897723.0\n        ],\n        \"semantic_type\": \"\",\n        \"description\": \"\"\n      }\n    },\n    {\n      \"column\": 2,\n      \"properties\": {\n        \"dtype\": \"number\",\n        \"std\": 198174.56317233175,\n        \"min\": 559.0,\n        \"max\": 1428561.0,\n        \"num_unique_values\": 52,\n        \"samples\": [\n          4057.0,\n          5862.0,\n          67216.0\n        ],\n        \"semantic_type\": \"\",\n        \"description\": \"\"\n      }\n    },\n    {\n      \"column\": 3,\n      \"properties\": {\n        \"dtype\": \"number\",\n        \"std\": 15334749.111305969,\n        \"min\": 183270.0,\n        \"max\": 111242132.0,\n        \"num_unique_values\": 52,\n        \"samples\": [\n          390506.0,\n          358859.0,\n          2964939.0\n        ],\n        \"semantic_type\": \"\",\n        \"description\": \"\"\n      }\n    },\n    {\n      \"column\": 4,\n      \"properties\": {\n        \"dtype\": \"number\",\n        \"std\": 79595.93514008641,\n        \"min\": 0.0,\n        \"max\": 575613.8301703039,\n        \"num_unique_values\": 52,\n        \"samples\": [\n          1475.0,\n          0.0,\n          5756.0\n        ],\n        \"semantic_type\": \"\",\n        \"description\": \"\"\n      }\n    },\n    {\n      \"column\": 5,\n      \"properties\": {\n        \"dtype\": \"number\",\n        \"std\": 58090.245888029276,\n        \"min\": 3.810291790167979,\n        \"max\": 416538.30716642714,\n        \"num_unique_values\": 52,\n        \"samples\": [\n          3126.0507956047095,\n          2653.8457368004865,\n          18089.53255449494\n        ],\n        \"semantic_type\": \"\",\n        \"description\": \"\"\n      }\n    },\n    {\n      \"column\": 6,\n      \"properties\": {\n        \"dtype\": \"number\",\n        \"std\": 136563.82509035972,\n        \"min\": 1121.5675468646934,\n        \"max\": 992152.1373367312,\n        \"num_unique_values\": 52,\n        \"samples\": [\n          4601.0507956047095,\n          2653.8457368004865,\n          23845.53255449494\n        ],\n        \"semantic_type\": \"\",\n        \"description\": \"\"\n      }\n    },\n    {\n      \"column\": 7,\n      \"properties\": {\n        \"dtype\": \"number\",\n        \"std\": 20650223.571334984,\n        \"min\": 113705.0,\n        \"max\": 150398354.0,\n        \"num_unique_values\": 52,\n        \"samples\": [\n          670478.0,\n          772494.0,\n          3827108.0\n        ],\n        \"semantic_type\": \"\",\n        \"description\": \"\"\n      }\n    },\n    {\n      \"column\": 8,\n      \"properties\": {\n        \"dtype\": \"number\",\n        \"std\": 317259.2599568903,\n        \"min\": 3006.4438152411676,\n        \"max\": 2303276.8596688337,\n        \"num_unique_values\": 52,\n        \"samples\": [\n          8697.37486232241,\n          14913.896296482862,\n          101019.4057608769\n        ],\n        \"semantic_type\": \"\",\n        \"description\": \"\"\n      }\n    },\n    {\n      \"column\": 9,\n      \"properties\": {\n        \"dtype\": \"number\",\n        \"std\": 20966699.944189303,\n        \"min\": 132809.58731144902,\n        \"max\": 152701630.85966885,\n        \"num_unique_values\": 52,\n        \"samples\": [\n          679175.3748623224,\n          787407.8962964829,\n          3928127.405760877\n        ],\n        \"semantic_type\": \"\",\n        \"description\": \"\"\n      }\n    },\n    {\n      \"column\": 10,\n      \"properties\": {\n        \"dtype\": \"number\",\n        \"std\": 1183010.9467655707,\n        \"min\": 3911.0,\n        \"max\": 8630345.0,\n        \"num_unique_values\": 52,\n        \"samples\": [\n          51305.0,\n          119762.0,\n          235500.0\n        ],\n        \"semantic_type\": \"\",\n        \"description\": \"\"\n      }\n    },\n    {\n      \"column\": 11,\n      \"properties\": {\n        \"dtype\": \"number\",\n        \"std\": 4456.312734401101,\n        \"min\": 0.0,\n        \"max\": 29396.126723733083,\n        \"num_unique_values\": 39,\n        \"samples\": [\n          211.22891712466944,\n          415.0,\n          13955.0\n        ],\n        \"semantic_type\": \"\",\n        \"description\": \"\"\n      }\n    },\n    {\n      \"column\": 12,\n      \"properties\": {\n        \"dtype\": \"number\",\n        \"std\": 1187142.8798960887,\n        \"min\": 4312.0,\n        \"max\": 8659741.126723733,\n        \"num_unique_values\": 52,\n        \"samples\": [\n          51306.0,\n          120494.0,\n          235501.0\n        ],\n        \"semantic_type\": \"\",\n        \"description\": \"\"\n      }\n    },\n    {\n      \"column\": 13,\n      \"properties\": {\n        \"dtype\": \"number\",\n        \"std\": 37037611.08259379,\n        \"min\": 307396.0,\n        \"max\": 269417883.83017033,\n        \"num_unique_values\": 52,\n        \"samples\": [\n          1109707.0,\n          1245253.0,\n          6966087.0\n        ],\n        \"semantic_type\": \"\",\n        \"description\": \"\"\n      }\n    },\n    {\n      \"column\": 14,\n      \"properties\": {\n        \"dtype\": \"number\",\n        \"std\": 577295.8101463504,\n        \"min\": 4969.853710364309,\n        \"max\": 4177772.2935589957,\n        \"num_unique_values\": 52,\n        \"samples\": [\n          15881.425657927119,\n          24161.74203328335,\n          186325.93831537187\n        ],\n        \"semantic_type\": \"\",\n        \"description\": \"\"\n      }\n    },\n    {\n      \"column\": 15,\n      \"properties\": {\n        \"dtype\": \"number\",\n        \"std\": 37613260.421048634,\n        \"min\": 351932.60752548,\n        \"max\": 273595656.1237292,\n        \"num_unique_values\": 52,\n        \"samples\": [\n          1125588.425657927,\n          1269414.7420332835,\n          7152412.938315372\n        ],\n        \"semantic_type\": \"\",\n        \"description\": \"\"\n      }\n    }\n  ]\n}"
            }
          },
          "metadata": {},
          "execution_count": 23
        }
      ]
    },
    {
      "cell_type": "code",
      "source": [
        "# Final loading\n",
        "temp_all_vehicle = pd.read_excel('/content/States_All_Vehicle_Registrations_2018.xlsx', skiprows=14, header=None)\n",
        "\n",
        "# Extract the actual state and vehicle count columns\n",
        "all_vehicle_df = temp_all_vehicle.iloc[:, [0, 1]].copy()\n",
        "all_vehicle_df.columns = ['state', 'all_vehicles']\n",
        "\n",
        "# Drop nulls and reset index\n",
        "all_vehicle_df.dropna(subset=['state'], inplace=True)\n",
        "all_vehicle_df.reset_index(drop=True, inplace=True)\n",
        "\n",
        "# Final check\n",
        "print(all_vehicle_df.head())\n"
      ],
      "metadata": {
        "colab": {
          "base_uri": "https://localhost:8080/"
        },
        "id": "Rfzf90Y84Fss",
        "outputId": "04d39058-ac20-418d-be60-86aae2871470"
      },
      "execution_count": null,
      "outputs": [
        {
          "output_type": "stream",
          "name": "stdout",
          "text": [
            "          state  all_vehicles\n",
            "0       Arizona     2372443.0\n",
            "1      Arkansas      908561.0\n",
            "2   California     14820833.0\n",
            "3     Colorado      1782358.0\n",
            "4  Connecticut      1305544.0\n"
          ]
        }
      ]
    },
    {
      "cell_type": "code",
      "source": [
        "# Merge EV and All Vehicle Data on 'state'\n",
        "ev_summary = pd.merge(ev_df, all_vehicle_df, on='state', how='left')\n"
      ],
      "metadata": {
        "id": "IzHeJ5uV4Q39"
      },
      "execution_count": null,
      "outputs": []
    },
    {
      "cell_type": "code",
      "source": [
        "# Merge with state codes\n",
        "ev_summary = pd.merge(ev_summary, state_dv, left_on='state', right_on='state_name', how='left')\n",
        "\n",
        "# Final check\n",
        "print(ev_summary.head())\n"
      ],
      "metadata": {
        "colab": {
          "base_uri": "https://localhost:8080/"
        },
        "id": "sEyUn-Sh4iIR",
        "outputId": "71dbea8f-b0ee-430b-f9f4-1fdfde69f331"
      },
      "execution_count": null,
      "outputs": [
        {
          "output_type": "stream",
          "name": "stdout",
          "text": [
            "        state  ev_registrations  all_vehicles state_code  state_name\n",
            "0      Alaska               530           NaN         AK      Alaska\n",
            "1     Arizona             15000     2372443.0         AZ     Arizona\n",
            "2    Arkansas               520      908561.0         AR    Arkansas\n",
            "3  California            256800           NaN         CA  California\n",
            "4    Colorado             11700           NaN         CO    Colorado\n"
          ]
        }
      ]
    },
    {
      "cell_type": "code",
      "source": [
        "# Summary statistics\n",
        "print(ev_summary.describe())\n",
        "\n",
        "# Check for missing values\n",
        "print(ev_summary.isnull().sum())\n"
      ],
      "metadata": {
        "colab": {
          "base_uri": "https://localhost:8080/"
        },
        "id": "pe3S-xVr4kXN",
        "outputId": "2e82aa83-b698-42e5-dfeb-cc58dabb87a9"
      },
      "execution_count": null,
      "outputs": [
        {
          "output_type": "stream",
          "name": "stdout",
          "text": [
            "       ev_registrations  all_vehicles\n",
            "count         51.000000  2.000000e+01\n",
            "mean       21289.607843  7.180838e+06\n",
            "std        82733.971933  2.419410e+07\n",
            "min          170.000000  2.140770e+05\n",
            "25%         1015.000000  6.355920e+05\n",
            "50%         3680.000000  1.721374e+06\n",
            "75%         9065.000000  3.056178e+06\n",
            "max       543610.000000  1.098136e+08\n",
            "state                0\n",
            "ev_registrations     0\n",
            "all_vehicles        31\n",
            "state_code           2\n",
            "state_name           2\n",
            "dtype: int64\n"
          ]
        }
      ]
    },
    {
      "cell_type": "markdown",
      "source": [
        "# Task 3"
      ],
      "metadata": {
        "id": "rNTf0xzZfV6u"
      }
    },
    {
      "cell_type": "code",
      "source": [
        "import matplotlib.pyplot as plt\n",
        "import seaborn as sns\n",
        "\n",
        "# Sort by EV registrations\n",
        "top_ev_states = ev_summary.sort_values(by='ev_registrations', ascending=False)\n",
        "\n",
        "# Plot top 10\n",
        "plt.figure(figsize=(12,6))\n",
        "sns.barplot(x='ev_registrations', y='state', data=top_ev_states.head(10), palette='viridis')\n",
        "plt.title('Top 10 States by EV Registrations (2018)')\n",
        "plt.xlabel('EV Registrations')\n",
        "plt.ylabel('State')\n",
        "plt.tight_layout()\n",
        "plt.show()\n"
      ],
      "metadata": {
        "colab": {
          "base_uri": "https://localhost:8080/",
          "height": 694
        },
        "id": "gl7nZ1hL4u6U",
        "outputId": "bfdfd225-454c-4aa7-9e36-6ed2df19306a"
      },
      "execution_count": null,
      "outputs": [
        {
          "output_type": "stream",
          "name": "stderr",
          "text": [
            "/tmp/ipython-input-2217854626.py:9: FutureWarning: \n",
            "\n",
            "Passing `palette` without assigning `hue` is deprecated and will be removed in v0.14.0. Assign the `y` variable to `hue` and set `legend=False` for the same effect.\n",
            "\n",
            "  sns.barplot(x='ev_registrations', y='state', data=top_ev_states.head(10), palette='viridis')\n"
          ]
        },
        {
          "output_type": "display_data",
          "data": {
            "text/plain": [
              "<Figure size 1200x600 with 1 Axes>"
            ],
            "image/png": "[encoded data removed]"
          },
          "metadata": {}
        }
      ]
    },
    {
      "cell_type": "code",
      "source": [
        "# Add a new column for EV %\n",
        "ev_summary['ev_percentage'] = (ev_summary['ev_registrations'] / ev_summary['all_vehicles']) * 100\n",
        "\n",
        "# Sort and visualize top 10 by EV %\n",
        "top_ev_percent = ev_summary.sort_values(by='ev_percentage', ascending=False)\n",
        "\n",
        "plt.figure(figsize=(12,6))\n",
        "sns.barplot(x='ev_percentage', y='state', data=top_ev_percent.head(10), palette='coolwarm')\n",
        "plt.title('Top 10 States by EV as % of All Vehicles')\n",
        "plt.xlabel('EV % of All Vehicles')\n",
        "plt.ylabel('State')\n",
        "plt.tight_layout()\n",
        "plt.show()\n"
      ],
      "metadata": {
        "colab": {
          "base_uri": "https://localhost:8080/",
          "height": 694
        },
        "id": "pPKwQEqJ4yUK",
        "outputId": "5a305e96-f431-4705-a216-8207c82a61c8"
      },
      "execution_count": null,
      "outputs": [
        {
          "output_type": "stream",
          "name": "stderr",
          "text": [
            "/tmp/ipython-input-842777001.py:8: FutureWarning: \n",
            "\n",
            "Passing `palette` without assigning `hue` is deprecated and will be removed in v0.14.0. Assign the `y` variable to `hue` and set `legend=False` for the same effect.\n",
            "\n",
            "  sns.barplot(x='ev_percentage', y='state', data=top_ev_percent.head(10), palette='coolwarm')\n"
          ]
        },
        {
          "output_type": "display_data",
          "data": {
            "text/plain": [
              "<Figure size 1200x600 with 1 Axes>"
            ],
            "image/png": "[encoded data removed]"
          },
          "metadata": {}
        }
      ]
    },
    {
      "cell_type": "code",
      "source": [
        "# Select numeric columns\n",
        "corr_data = ev_summary[['ev_registrations', 'all_vehicles', 'ev_percentage']]\n",
        "\n",
        "# Correlation matrix\n",
        "plt.figure(figsize=(6,4))\n",
        "sns.heatmap(corr_data.corr(), annot=True, cmap='YlGnBu')\n",
        "plt.title('Correlation Matrix')\n",
        "plt.tight_layout()\n",
        "plt.show()\n"
      ],
      "metadata": {
        "colab": {
          "base_uri": "https://localhost:8080/",
          "height": 406
        },
        "id": "S8R5Dqhe6laN",
        "outputId": "ca4c0fa3-920e-4bac-c0ac-ced0ae0a458b"
      },
      "execution_count": null,
      "outputs": [
        {
          "output_type": "display_data",
          "data": {
            "text/plain": [
              "<Figure size 600x400 with 2 Axes>"
            ],
            "image/png": "[encoded data removed]"
          },
          "metadata": {}
        }
      ]
    },
    {
      "cell_type": "markdown",
      "source": [
        "# **task 3**"
      ],
      "metadata": {
        "id": "Tihu0VTo7PtY"
      }
    },
    {
      "cell_type": "code",
      "source": [
        "# Filter energy data for year 2018\n",
        "energy_2018 = registration_df[registration_df['YEAR'] == 2018].copy()\n",
        "\n",
        "# Drop irrelevant producers (keep only \"Total Electric Power Industry\")\n",
        "energy_2018 = energy_2018[energy_2018['TYPE OF PRODUCER'] == 'Total Electric Power Industry']\n"
      ],
      "metadata": {
        "id": "IkR9R_g_6xuV"
      },
      "execution_count": null,
      "outputs": []
    },
    {
      "cell_type": "code",
      "source": [
        "energy_2018\n"
      ],
      "metadata": {
        "colab": {
          "base_uri": "https://localhost:8080/",
          "height": 424
        },
        "id": "Tqtt_e718KsR",
        "outputId": "b0b9af42-efc0-4920-aa40-0a6f6a525b7b"
      },
      "execution_count": null,
      "outputs": [
        {
          "output_type": "execute_result",
          "data": {
            "text/plain": [
              "       YEAR STATE               TYPE OF PRODUCER  \\\n",
              "49519  2018    AK  Total Electric Power Industry   \n",
              "49520  2018    AK  Total Electric Power Industry   \n",
              "49521  2018    AK  Total Electric Power Industry   \n",
              "49522  2018    AK  Total Electric Power Industry   \n",
              "49523  2018    AK  Total Electric Power Industry   \n",
              "...     ...   ...                            ...   \n",
              "51609  2018    WY  Total Electric Power Industry   \n",
              "51610  2018    WY  Total Electric Power Industry   \n",
              "51611  2018    WY  Total Electric Power Industry   \n",
              "51612  2018    WY  Total Electric Power Industry   \n",
              "51613  2018    WY  Total Electric Power Industry   \n",
              "\n",
              "                        ENERGY SOURCE  GENERATION (Megawatthours)  \n",
              "49519                           Total                   6247359.0  \n",
              "49520                            Coal                    628564.0  \n",
              "49521      Hydroelectric Conventional                   1664225.0  \n",
              "49522                     Natural Gas                   2947902.0  \n",
              "49523                           Other                     -3100.0  \n",
              "...                               ...                         ...  \n",
              "51609                     Other Gases                    377641.0  \n",
              "51610                           Other                     85266.0  \n",
              "51611                       Petroleum                     40136.0  \n",
              "51612  Solar Thermal and Photovoltaic                       824.0  \n",
              "51613                            Wind                   4057158.0  \n",
              "\n",
              "[562 rows x 5 columns]"
            ],
            "text/html": [
              "\n",
              "  <div id=\"df-eece818e-75d4-4186-b4df-3f2cef5ee44c\" class=\"colab-df-container\">\n",
              "    <div>\n",
              "<style scoped>\n",
              "    .dataframe tbody tr th:only-of-type {\n",
              "        vertical-align: middle;\n",
              "    }\n",
              "\n",
              "    .dataframe tbody tr th {\n",
              "        vertical-align: top;\n",
              "    }\n",
              "\n",
              "    .dataframe thead th {\n",
              "        text-align: right;\n",
              "    }\n",
              "</style>\n",
              "<table border=\"1\" class=\"dataframe\">\n",
              "  <thead>\n",
              "    <tr style=\"text-align: right;\">\n",
              "      <th></th>\n",
              "      <th>YEAR</th>\n",
              "      <th>STATE</th>\n",
              "      <th>TYPE OF PRODUCER</th>\n",
              "      <th>ENERGY SOURCE</th>\n",
              "      <th>GENERATION (Megawatthours)</th>\n",
              "    </tr>\n",
              "  </thead>\n",
              "  <tbody>\n",
              "    <tr>\n",
              "      <th>49519</th>\n",
              "      <td>2018</td>\n",
              "      <td>AK</td>\n",
              "      <td>Total Electric Power Industry</td>\n",
              "      <td>Total</td>\n",
              "      <td>6247359.0</td>\n",
              "    </tr>\n",
              "    <tr>\n",
              "      <th>49520</th>\n",
              "      <td>2018</td>\n",
              "      <td>AK</td>\n",
              "      <td>Total Electric Power Industry</td>\n",
              "      <td>Coal</td>\n",
              "      <td>628564.0</td>\n",
              "    </tr>\n",
              "    <tr>\n",
              "      <th>49521</th>\n",
              "      <td>2018</td>\n",
              "      <td>AK</td>\n",
              "      <td>Total Electric Power Industry</td>\n",
              "      <td>Hydroelectric Conventional</td>\n",
              "      <td>1664225.0</td>\n",
              "    </tr>\n",
              "    <tr>\n",
              "      <th>49522</th>\n",
              "      <td>2018</td>\n",
              "      <td>AK</td>\n",
              "      <td>Total Electric Power Industry</td>\n",
              "      <td>Natural Gas</td>\n",
              "      <td>2947902.0</td>\n",
              "    </tr>\n",
              "    <tr>\n",
              "      <th>49523</th>\n",
              "      <td>2018</td>\n",
              "      <td>AK</td>\n",
              "      <td>Total Electric Power Industry</td>\n",
              "      <td>Other</td>\n",
              "      <td>-3100.0</td>\n",
              "    </tr>\n",
              "    <tr>\n",
              "      <th>...</th>\n",
              "      <td>...</td>\n",
              "      <td>...</td>\n",
              "      <td>...</td>\n",
              "      <td>...</td>\n",
              "      <td>...</td>\n",
              "    </tr>\n",
              "    <tr>\n",
              "      <th>51609</th>\n",
              "      <td>2018</td>\n",
              "      <td>WY</td>\n",
              "      <td>Total Electric Power Industry</td>\n",
              "      <td>Other Gases</td>\n",
              "      <td>377641.0</td>\n",
              "    </tr>\n",
              "    <tr>\n",
              "      <th>51610</th>\n",
              "      <td>2018</td>\n",
              "      <td>WY</td>\n",
              "      <td>Total Electric Power Industry</td>\n",
              "      <td>Other</td>\n",
              "      <td>85266.0</td>\n",
              "    </tr>\n",
              "    <tr>\n",
              "      <th>51611</th>\n",
              "      <td>2018</td>\n",
              "      <td>WY</td>\n",
              "      <td>Total Electric Power Industry</td>\n",
              "      <td>Petroleum</td>\n",
              "      <td>40136.0</td>\n",
              "    </tr>\n",
              "    <tr>\n",
              "      <th>51612</th>\n",
              "      <td>2018</td>\n",
              "      <td>WY</td>\n",
              "      <td>Total Electric Power Industry</td>\n",
              "      <td>Solar Thermal and Photovoltaic</td>\n",
              "      <td>824.0</td>\n",
              "    </tr>\n",
              "    <tr>\n",
              "      <th>51613</th>\n",
              "      <td>2018</td>\n",
              "      <td>WY</td>\n",
              "      <td>Total Electric Power Industry</td>\n",
              "      <td>Wind</td>\n",
              "      <td>4057158.0</td>\n",
              "    </tr>\n",
              "  </tbody>\n",
              "</table>\n",
              "<p>562 rows × 5 columns</p>\n",
              "</div>\n",
              "    <div class=\"colab-df-buttons\">\n",
              "\n",
              "  <div class=\"colab-df-container\">\n",
              "    <button class=\"colab-df-convert\" onclick=\"convertToInteractive('df-eece818e-75d4-4186-b4df-3f2cef5ee44c')\"\n",
              "            title=\"Convert this dataframe to an interactive table.\"\n",
              "            style=\"display:none;\">\n",
              "\n",
              "  <svg xmlns=\"http://www.w3.org/2000/svg\" height=\"24px\" viewBox=\"0 -960 960 960\">\n",
              "    <path d=\"M120-120v-720h720v720H120Zm60-500h600v-160H180v160Zm220 220h160v-160H400v160Zm0 220h160v-160H400v160ZM180-400h160v-160H180v160Zm440 0h160v-160H620v160ZM180-180h160v-160H180v160Zm440 0h160v-160H620v160Z\"/>\n",
              "  </svg>\n",
              "    </button>\n",
              "\n",
              "  <style>\n",
              "    .colab-df-container {\n",
              "      display:flex;\n",
              "      gap: 12px;\n",
              "    }\n",
              "\n",
              "    .colab-df-convert {\n",
              "      background-color: #E8F0FE;\n",
              "      border: none;\n",
              "      border-radius: 50%;\n",
              "      cursor: pointer;\n",
              "      display: none;\n",
              "      fill: #1967D2;\n",
              "      height: 32px;\n",
              "      padding: 0 0 0 0;\n",
              "      width: 32px;\n",
              "    }\n",
              "\n",
              "    .colab-df-convert:hover {\n",
              "      background-color: #E2EBFA;\n",
              "      box-shadow: 0px 1px 2px rgba(60, 64, 67, 0.3), 0px 1px 3px 1px rgba(60, 64, 67, 0.15);\n",
              "      fill: #174EA6;\n",
              "    }\n",
              "\n",
              "    .colab-df-buttons div {\n",
              "      margin-bottom: 4px;\n",
              "    }\n",
              "\n",
              "    [theme=dark] .colab-df-convert {\n",
              "      background-color: #3B4455;\n",
              "      fill: #D2E3FC;\n",
              "    }\n",
              "\n",
              "    [theme=dark] .colab-df-convert:hover {\n",
              "      background-color: #434B5C;\n",
              "      box-shadow: 0px 1px 3px 1px rgba(0, 0, 0, 0.15);\n",
              "      filter: drop-shadow(0px 1px 2px rgba(0, 0, 0, 0.3));\n",
              "      fill: #FFFFFF;\n",
              "    }\n",
              "  </style>\n",
              "\n",
              "    <script>\n",
              "      const buttonEl =\n",
              "        document.querySelector('#df-eece818e-75d4-4186-b4df-3f2cef5ee44c button.colab-df-convert');\n",
              "      buttonEl.style.display =\n",
              "        google.colab.kernel.accessAllowed ? 'block' : 'none';\n",
              "\n",
              "      async function convertToInteractive(key) {\n",
              "        const element = document.querySelector('#df-eece818e-75d4-4186-b4df-3f2cef5ee44c');\n",
              "        const dataTable =\n",
              "          await google.colab.kernel.invokeFunction('convertToInteractive',\n",
              "                                                    [key], {});\n",
              "        if (!dataTable) return;\n",
              "\n",
              "        const docLinkHtml = 'Like what you see? Visit the ' +\n",
              "          '<a target=\"_blank\" href=https://colab.research.google.com/notebooks/data_table.ipynb>data table notebook</a>'\n",
              "          + ' to learn more about interactive tables.';\n",
              "        element.innerHTML = '';\n",
              "        dataTable['output_type'] = 'display_data';\n",
              "        await google.colab.output.renderOutput(dataTable, element);\n",
              "        const docLink = document.createElement('div');\n",
              "        docLink.innerHTML = docLinkHtml;\n",
              "        element.appendChild(docLink);\n",
              "      }\n",
              "    </script>\n",
              "  </div>\n",
              "\n",
              "\n",
              "    <div id=\"df-b6574e01-19cc-414a-a3d0-f4d817e5dba8\">\n",
              "      <button class=\"colab-df-quickchart\" onclick=\"quickchart('df-b6574e01-19cc-414a-a3d0-f4d817e5dba8')\"\n",
              "                title=\"Suggest charts\"\n",
              "                style=\"display:none;\">\n",
              "\n",
              "<svg xmlns=\"http://www.w3.org/2000/svg\" height=\"24px\"viewBox=\"0 0 24 24\"\n",
              "     width=\"24px\">\n",
              "    <g>\n",
              "        <path d=\"M19 3H5c-1.1 0-2 .9-2 2v14c0 1.1.9 2 2 2h14c1.1 0 2-.9 2-2V5c0-1.1-.9-2-2-2zM9 17H7v-7h2v7zm4 0h-2V7h2v10zm4 0h-2v-4h2v4z\"/>\n",
              "    </g>\n",
              "</svg>\n",
              "      </button>\n",
              "\n",
              "<style>\n",
              "  .colab-df-quickchart {\n",
              "      --bg-color: #E8F0FE;\n",
              "      --fill-color: #1967D2;\n",
              "      --hover-bg-color: #E2EBFA;\n",
              "      --hover-fill-color: #174EA6;\n",
              "      --disabled-fill-color: #AAA;\n",
              "      --disabled-bg-color: #DDD;\n",
              "  }\n",
              "\n",
              "  [theme=dark] .colab-df-quickchart {\n",
              "      --bg-color: #3B4455;\n",
              "      --fill-color: #D2E3FC;\n",
              "      --hover-bg-color: #434B5C;\n",
              "      --hover-fill-color: #FFFFFF;\n",
              "      --disabled-bg-color: #3B4455;\n",
              "      --disabled-fill-color: #666;\n",
              "  }\n",
              "\n",
              "  .colab-df-quickchart {\n",
              "    background-color: var(--bg-color);\n",
              "    border: none;\n",
              "    border-radius: 50%;\n",
              "    cursor: pointer;\n",
              "    display: none;\n",
              "    fill: var(--fill-color);\n",
              "    height: 32px;\n",
              "    padding: 0;\n",
              "    width: 32px;\n",
              "  }\n",
              "\n",
              "  .colab-df-quickchart:hover {\n",
              "    background-color: var(--hover-bg-color);\n",
              "    box-shadow: 0 1px 2px rgba(60, 64, 67, 0.3), 0 1px 3px 1px rgba(60, 64, 67, 0.15);\n",
              "    fill: var(--button-hover-fill-color);\n",
              "  }\n",
              "\n",
              "  .colab-df-quickchart-complete:disabled,\n",
              "  .colab-df-quickchart-complete:disabled:hover {\n",
              "    background-color: var(--disabled-bg-color);\n",
              "    fill: var(--disabled-fill-color);\n",
              "    box-shadow: none;\n",
              "  }\n",
              "\n",
              "  .colab-df-spinner {\n",
              "    border: 2px solid var(--fill-color);\n",
              "    border-color: transparent;\n",
              "    border-bottom-color: var(--fill-color);\n",
              "    animation:\n",
              "      spin 1s steps(1) infinite;\n",
              "  }\n",
              "\n",
              "  @keyframes spin {\n",
              "    0% {\n",
              "      border-color: transparent;\n",
              "      border-bottom-color: var(--fill-color);\n",
              "      border-left-color: var(--fill-color);\n",
              "    }\n",
              "    20% {\n",
              "      border-color: transparent;\n",
              "      border-left-color: var(--fill-color);\n",
              "      border-top-color: var(--fill-color);\n",
              "    }\n",
              "    30% {\n",
              "      border-color: transparent;\n",
              "      border-left-color: var(--fill-color);\n",
              "      border-top-color: var(--fill-color);\n",
              "      border-right-color: var(--fill-color);\n",
              "    }\n",
              "    40% {\n",
              "      border-color: transparent;\n",
              "      border-right-color: var(--fill-color);\n",
              "      border-top-color: var(--fill-color);\n",
              "    }\n",
              "    60% {\n",
              "      border-color: transparent;\n",
              "      border-right-color: var(--fill-color);\n",
              "    }\n",
              "    80% {\n",
              "      border-color: transparent;\n",
              "      border-right-color: var(--fill-color);\n",
              "      border-bottom-color: var(--fill-color);\n",
              "    }\n",
              "    90% {\n",
              "      border-color: transparent;\n",
              "      border-bottom-color: var(--fill-color);\n",
              "    }\n",
              "  }\n",
              "</style>\n",
              "\n",
              "      <script>\n",
              "        async function quickchart(key) {\n",
              "          const quickchartButtonEl =\n",
              "            document.querySelector('#' + key + ' button');\n",
              "          quickchartButtonEl.disabled = true;  // To prevent multiple clicks.\n",
              "          quickchartButtonEl.classList.add('colab-df-spinner');\n",
              "          try {\n",
              "            const charts = await google.colab.kernel.invokeFunction(\n",
              "                'suggestCharts', [key], {});\n",
              "          } catch (error) {\n",
              "            console.error('Error during call to suggestCharts:', error);\n",
              "          }\n",
              "          quickchartButtonEl.classList.remove('colab-df-spinner');\n",
              "          quickchartButtonEl.classList.add('colab-df-quickchart-complete');\n",
              "        }\n",
              "        (() => {\n",
              "          let quickchartButtonEl =\n",
              "            document.querySelector('#df-b6574e01-19cc-414a-a3d0-f4d817e5dba8 button');\n",
              "          quickchartButtonEl.style.display =\n",
              "            google.colab.kernel.accessAllowed ? 'block' : 'none';\n",
              "        })();\n",
              "      </script>\n",
              "    </div>\n",
              "\n",
              "  <div id=\"id_9604fdcd-7ba6-482d-b623-5a88e04ac296\">\n",
              "    <style>\n",
              "      .colab-df-generate {\n",
              "        background-color: #E8F0FE;\n",
              "        border: none;\n",
              "        border-radius: 50%;\n",
              "        cursor: pointer;\n",
              "        display: none;\n",
              "        fill: #1967D2;\n",
              "        height: 32px;\n",
              "        padding: 0 0 0 0;\n",
              "        width: 32px;\n",
              "      }\n",
              "\n",
              "      .colab-df-generate:hover {\n",
              "        background-color: #E2EBFA;\n",
              "        box-shadow: 0px 1px 2px rgba(60, 64, 67, 0.3), 0px 1px 3px 1px rgba(60, 64, 67, 0.15);\n",
              "        fill: #174EA6;\n",
              "      }\n",
              "\n",
              "      [theme=dark] .colab-df-generate {\n",
              "        background-color: #3B4455;\n",
              "        fill: #D2E3FC;\n",
              "      }\n",
              "\n",
              "      [theme=dark] .colab-df-generate:hover {\n",
              "        background-color: #434B5C;\n",
              "        box-shadow: 0px 1px 3px 1px rgba(0, 0, 0, 0.15);\n",
              "        filter: drop-shadow(0px 1px 2px rgba(0, 0, 0, 0.3));\n",
              "        fill: #FFFFFF;\n",
              "      }\n",
              "    </style>\n",
              "    <button class=\"colab-df-generate\" onclick=\"generateWithVariable('energy_2018')\"\n",
              "            title=\"Generate code using this dataframe.\"\n",
              "            style=\"display:none;\">\n",
              "\n",
              "  <svg xmlns=\"http://www.w3.org/2000/svg\" height=\"24px\"viewBox=\"0 0 24 24\"\n",
              "       width=\"24px\">\n",
              "    <path d=\"M7,19H8.4L18.45,9,17,7.55,7,17.6ZM5,21V16.75L18.45,3.32a2,2,0,0,1,2.83,0l1.4,1.43a1.91,1.91,0,0,1,.58,1.4,1.91,1.91,0,0,1-.58,1.4L9.25,21ZM18.45,9,17,7.55Zm-12,3A5.31,5.31,0,0,0,4.9,8.1,5.31,5.31,0,0,0,1,6.5,5.31,5.31,0,0,0,4.9,4.9,5.31,5.31,0,0,0,6.5,1,5.31,5.31,0,0,0,8.1,4.9,5.31,5.31,0,0,0,12,6.5,5.46,5.46,0,0,0,6.5,12Z\"/>\n",
              "  </svg>\n",
              "    </button>\n",
              "    <script>\n",
              "      (() => {\n",
              "      const buttonEl =\n",
              "        document.querySelector('#id_9604fdcd-7ba6-482d-b623-5a88e04ac296 button.colab-df-generate');\n",
              "      buttonEl.style.display =\n",
              "        google.colab.kernel.accessAllowed ? 'block' : 'none';\n",
              "\n",
              "      buttonEl.onclick = () => {\n",
              "        google.colab.notebook.generateWithVariable('energy_2018');\n",
              "      }\n",
              "      })();\n",
              "    </script>\n",
              "  </div>\n",
              "\n",
              "    </div>\n",
              "  </div>\n"
            ],
            "application/vnd.google.colaboratory.intrinsic+json": {
              "type": "dataframe",
              "variable_name": "energy_2018",
              "summary": "{\n  \"name\": \"energy_2018\",\n  \"rows\": 562,\n  \"fields\": [\n    {\n      \"column\": \"YEAR\",\n      \"properties\": {\n        \"dtype\": \"number\",\n        \"std\": 0,\n        \"min\": 2018,\n        \"max\": 2018,\n        \"num_unique_values\": 1,\n        \"samples\": [\n          2018\n        ],\n        \"semantic_type\": \"\",\n        \"description\": \"\"\n      }\n    },\n    {\n      \"column\": \"STATE\",\n      \"properties\": {\n        \"dtype\": \"category\",\n        \"num_unique_values\": 52,\n        \"samples\": [\n          \"MA\"\n        ],\n        \"semantic_type\": \"\",\n        \"description\": \"\"\n      }\n    },\n    {\n      \"column\": \"TYPE OF PRODUCER\",\n      \"properties\": {\n        \"dtype\": \"category\",\n        \"num_unique_values\": 1,\n        \"samples\": [\n          \"Total Electric Power Industry\"\n        ],\n        \"semantic_type\": \"\",\n        \"description\": \"\"\n      }\n    },\n    {\n      \"column\": \"ENERGY SOURCE\",\n      \"properties\": {\n        \"dtype\": \"category\",\n        \"num_unique_values\": 14,\n        \"samples\": [\n          \"Nuclear\"\n        ],\n        \"semantic_type\": \"\",\n        \"description\": \"\"\n      }\n    },\n    {\n      \"column\": \"GENERATION (Megawatthours)\",\n      \"properties\": {\n        \"dtype\": \"number\",\n        \"std\": 198775862.10306567,\n        \"min\": -5904539.0,\n        \"max\": 4178277344.0,\n        \"num_unique_values\": 547,\n        \"samples\": [\n          59168143.0\n        ],\n        \"semantic_type\": \"\",\n        \"description\": \"\"\n      }\n    }\n  ]\n}"
            }
          },
          "metadata": {},
          "execution_count": 44
        }
      ]
    },
    {
      "cell_type": "code",
      "source": [
        "# Group total generation by state and energy source\n",
        "grouped_energy = energy_2018.groupby(['STATE', 'ENERGY SOURCE'])['GENERATION (Megawatthours)'].sum().reset_index()\n"
      ],
      "metadata": {
        "id": "zdjx-oDD835x"
      },
      "execution_count": null,
      "outputs": []
    },
    {
      "cell_type": "code",
      "source": [
        "# Pivot to wide format\n",
        "energy_pivot = grouped_energy.pivot(index='STATE', columns='ENERGY SOURCE', values='GENERATION (Megawatthours)').fillna(0)\n",
        "\n",
        "# Reset index so we can merge later\n",
        "energy_pivot.reset_index(inplace=True)\n",
        "energy_pivot.columns.name = None  # remove label on top\n"
      ],
      "metadata": {
        "id": "blTlGiN49gBx"
      },
      "execution_count": null,
      "outputs": []
    },
    {
      "cell_type": "code",
      "source": [
        "# Merge energy data with EV data\n",
        "ev_energy = pd.merge(ev_summary, energy_pivot, left_on='state', right_on='STATE', how='left')\n",
        "\n",
        "# Drop duplicate STATE column if needed\n",
        "ev_energy.drop(columns=['STATE'], inplace=True)\n"
      ],
      "metadata": {
        "id": "AObu_pcy9keN"
      },
      "execution_count": null,
      "outputs": []
    },
    {
      "cell_type": "code",
      "source": [
        "print(ev_energy.columns)\n"
      ],
      "metadata": {
        "colab": {
          "base_uri": "https://localhost:8080/"
        },
        "id": "S2ddtY_b-J6q",
        "outputId": "daa15272-f9d1-4eb0-dea6-854acda0d645"
      },
      "execution_count": null,
      "outputs": [
        {
          "output_type": "stream",
          "name": "stdout",
          "text": [
            "Index(['state', 'ev_registrations', 'all_vehicles', 'state_code_x',\n",
            "       'state_name_x', 'ev_percentage', 'state_code_y', 'state_name_y', 'Coal',\n",
            "       'Geothermal', 'Hydroelectric Conventional', 'Natural Gas', 'Nuclear',\n",
            "       'Other', 'Other Biomass', 'Other Gases', 'Petroleum', 'Pumped Storage',\n",
            "       'Solar Thermal and Photovoltaic', 'Total', 'Wind',\n",
            "       'Wood and Wood Derived Fuels'],\n",
            "      dtype='object')\n"
          ]
        }
      ]
    },
    {
      "cell_type": "code",
      "source": [
        "print(ev_energy.columns.tolist())\n"
      ],
      "metadata": {
        "colab": {
          "base_uri": "https://localhost:8080/"
        },
        "id": "FbgCtk4n-s0_",
        "outputId": "d198dc93-a199-447e-e892-e30db87e6a6d"
      },
      "execution_count": null,
      "outputs": [
        {
          "output_type": "stream",
          "name": "stdout",
          "text": [
            "['state', 'ev_registrations', 'all_vehicles', 'state_code_x', 'state_name_x', 'ev_percentage', 'state_code_y', 'state_name_y', 'Coal', 'Geothermal', 'Hydroelectric Conventional', 'Natural Gas', 'Nuclear', 'Other', 'Other Biomass', 'Other Gases', 'Petroleum', 'Pumped Storage', 'Solar Thermal and Photovoltaic', 'Total', 'Wind', 'Wood and Wood Derived Fuels']\n"
          ]
        }
      ]
    },
    {
      "cell_type": "code",
      "source": [
        "corr_cols = ['ev_registrations', 'ev_percentage',\n",
        "             'Coal (MWh)', 'Natural Gas (MWh)',\n",
        "             'Wind (MWh)', 'Solar (MWh)',\n",
        "             'Hydroelectric (MWh)']\n"
      ],
      "metadata": {
        "id": "U1I4LHh0_W-6"
      },
      "execution_count": null,
      "outputs": []
    },
    {
      "cell_type": "code",
      "source": [
        "available_cols = [col for col in corr_cols if col in ev_energy.columns]\n",
        "correlation_data = ev_energy[available_cols].copy()\n",
        "\n",
        "import seaborn as sns\n",
        "import matplotlib.pyplot as plt\n",
        "\n",
        "plt.figure(figsize=(10, 6))\n",
        "sns.heatmap(correlation_data.corr(), annot=True, cmap='YlGnBu')\n",
        "plt.title('Correlation Between EV Registrations and Energy Sources (2018)')\n",
        "plt.tight_layout()\n",
        "plt.show()\n"
      ],
      "metadata": {
        "colab": {
          "base_uri": "https://localhost:8080/",
          "height": 607
        },
        "id": "wxx_HF9A_ZXB",
        "outputId": "47119ff3-039d-49e5-8cf3-d7b087a7ab46"
      },
      "execution_count": null,
      "outputs": [
        {
          "output_type": "display_data",
          "data": {
            "text/plain": [
              "<Figure size 1000x600 with 2 Axes>"
            ],
            "image/png": "[encoded data removed]"
          },
          "metadata": {}
        }
      ]
    },
    {
      "cell_type": "markdown",
      "source": [
        "## **Task 4**"
      ],
      "metadata": {
        "id": "sc4ATypZgT15"
      }
    },
    {
      "cell_type": "code",
      "source": [
        "# Filter only total electric power producers\n",
        "energy_full = registration_df[registration_df['TYPE OF PRODUCER'] == 'Total Electric Power Industry'].copy()\n",
        "\n",
        "# Group by year and energy source\n",
        "energy_trend = energy_full.groupby(['YEAR', 'ENERGY SOURCE'])['GENERATION (Megawatthours)'].sum().reset_index()\n"
      ],
      "metadata": {
        "id": "4OuRbuEY_15S"
      },
      "execution_count": null,
      "outputs": []
    },
    {
      "cell_type": "code",
      "source": [
        "# Select renewable sources\n",
        "renewables = ['Solar Thermal and Photovoltaic', 'Wind', 'Hydroelectric Conventional']\n",
        "\n",
        "# Filter data\n",
        "renewable_trend = energy_trend[energy_trend['ENERGY SOURCE'].isin(renewables)]\n",
        "\n",
        "# Plot line chart\n",
        "plt.figure(figsize=(12,6))\n",
        "sns.lineplot(data=renewable_trend, x='YEAR', y='GENERATION (Megawatthours)', hue='ENERGY SOURCE')\n",
        "plt.title('Renewable Energy Production Over Time (1990–2019)')\n",
        "plt.xlabel('Year')\n",
        "plt.ylabel('Generation (MWh)')\n",
        "plt.tight_layout()\n",
        "plt.show()\n"
      ],
      "metadata": {
        "colab": {
          "base_uri": "https://localhost:8080/",
          "height": 607
        },
        "id": "CDne8Fy8Ap8a",
        "outputId": "a5202e35-0310-40e1-98b5-bb311d81fc15"
      },
      "execution_count": null,
      "outputs": [
        {
          "output_type": "display_data",
          "data": {
            "text/plain": [
              "<Figure size 1200x600 with 1 Axes>"
            ],
            "image/png": "[encoded data removed]"
          },
          "metadata": {}
        }
      ]
    },
    {
      "cell_type": "code",
      "source": [
        "# Define categories\n",
        "renewable_sources = ['Solar Thermal and Photovoltaic', 'Wind', 'Hydroelectric Conventional', 'Geothermal', 'Wood and Wood Derived Fuels']\n",
        "fossil_sources = ['Coal', 'Petroleum', 'Natural Gas']\n",
        "\n",
        "# Add category column\n",
        "energy_trend['CATEGORY'] = energy_trend['ENERGY SOURCE'].apply(\n",
        "    lambda x: 'Renewable' if x in renewable_sources else ('Fossil' if x in fossil_sources else 'Other')\n",
        ")\n",
        "\n",
        "# Group and plot\n",
        "category_trend = energy_trend.groupby(['YEAR', 'CATEGORY'])['GENERATION (Megawatthours)'].sum().reset_index()\n",
        "\n",
        "plt.figure(figsize=(12,6))\n",
        "sns.lineplot(data=category_trend, x='YEAR', y='GENERATION (Megawatthours)', hue='CATEGORY')\n",
        "plt.title('Renewable vs Fossil Energy Generation Over Time')\n",
        "plt.xlabel('Year')\n",
        "plt.ylabel('Generation (MWh)')\n",
        "plt.tight_layout()\n",
        "plt.show()\n"
      ],
      "metadata": {
        "colab": {
          "base_uri": "https://localhost:8080/",
          "height": 607
        },
        "id": "NdyVSaXTAtsI",
        "outputId": "8e2ea2e6-5b0b-4f61-91fb-9df3b6e706f1"
      },
      "execution_count": null,
      "outputs": [
        {
          "output_type": "display_data",
          "data": {
            "text/plain": [
              "<Figure size 1200x600 with 1 Axes>"
            ],
            "image/png": "[encoded data removed]"
          },
          "metadata": {}
        }
      ]
    },
    {
      "cell_type": "markdown",
      "source": [
        "## **Task 5**"
      ],
      "metadata": {
        "id": "uhK6g7U2gJNM"
      }
    },
    {
      "cell_type": "code",
      "source": [
        "import plotly.express as px"
      ],
      "metadata": {
        "id": "gT8LY0n9A3H_"
      },
      "execution_count": null,
      "outputs": []
    },
    {
      "cell_type": "code",
      "source": [
        "print(ev_summary[['state', 'state_code_x']].head())\n"
      ],
      "metadata": {
        "colab": {
          "base_uri": "https://localhost:8080/"
        },
        "id": "L3k9Ko0OBbye",
        "outputId": "3763880a-b2c3-4265-d923-5b3787467ee3"
      },
      "execution_count": null,
      "outputs": [
        {
          "output_type": "stream",
          "name": "stdout",
          "text": [
            "        state state_code_x\n",
            "0      Alaska           AK\n",
            "1     Arizona           AZ\n",
            "2    Arkansas           AR\n",
            "3  California           CA\n",
            "4    Colorado           CO\n"
          ]
        }
      ]
    },
    {
      "cell_type": "code",
      "source": [
        "import plotly.express as px\n",
        "\n",
        "fig = px.choropleth(\n",
        "    ev_summary,\n",
        "    locations='state_code_x',          # use the actual column name from your data\n",
        "    locationmode='USA-states',\n",
        "    color='ev_registrations',\n",
        "    scope='usa',\n",
        "    color_continuous_scale='Viridis',\n",
        "    title='EV Registrations by State (2018)'\n",
        ")\n",
        "\n",
        "fig.show()\n"
      ],
      "metadata": {
        "colab": {
          "base_uri": "https://localhost:8080/",
          "height": 542
        },
        "id": "En3blvRnB_fC",
        "outputId": "01a6e137-4054-475f-cdd2-8e7fe4b3091e"
      },
      "execution_count": null,
      "outputs": [
        {
          "output_type": "display_data",
          "data": {
            "text/html": [
              "<html>\n",
              "<head><meta charset=\"utf-8\" /></head>\n",
              "<body>\n",
              "    <div>            <script src=\"https://cdnjs.cloudflare.com/ajax/libs/mathjax/2.7.5/MathJax.js?config=TeX-AMS-MML_SVG\"></script><script type=\"text/javascript\">if (window.MathJax && window.MathJax.Hub && window.MathJax.Hub.Config) {window.MathJax.Hub.Config({SVG: {font: \"STIX-Web\"}});}</script>                <script type=\"text/javascript\">window.PlotlyConfig = {MathJaxConfig: 'local'};</script>\n",
              "        <script charset=\"utf-8\" src=\"https://cdn.plot.ly/plotly-2.35.2.min.js\"></script>                <div id=\"bf1e1225-4bc3-44ac-9acb-327c03722e7f\" class=\"plotly-graph-div\" style=\"height:525px; width:100%;\"></div>            <script type=\"text/javascript\">                                    window.PLOTLYENV=window.PLOTLYENV || {};                                    if (document.getElementById(\"bf1e1225-4bc3-44ac-9acb-327c03722e7f\")) {                    Plotly.newPlot(                        \"bf1e1225-4bc3-44ac-9acb-327c03722e7f\",                        [{\"coloraxis\":\"coloraxis\",\"geo\":\"geo\",\"hovertemplate\":\"state_code_x=%{location}\\u003cbr\\u003eev_registrations=%{z}\\u003cextra\\u003e\\u003c\\u002fextra\\u003e\",\"locationmode\":\"USA-states\",\"locations\":[\"AK\",\"AZ\",\"AR\",\"CA\",\"CO\",\"CT\",\"DE\",null,\"FL\",\"GA\",\"HI\",\"ID\",\"IL\",\"IN\",\"IA\",\"KS\",\"KY\",\"LA\",\"ME\",\"MD\",\"MA\",\"MI\",\"MN\",\"MS\",\"MO\",\"MT\",\"NE\",\"NV\",\"NH\",\"NJ\",\"NM\",\"NY\",\"NC\",\"ND\",\"OH\",\"OK\",\"OR\",\"PA\",\"RI\",\"SC\",\"SD\",\"TN\",\"TX\",\"UT\",\"VT\",\"VA\",\"WA\",\"WV\",\"WI\",\"WY\",null],\"name\":\"\",\"z\":[530,15000,520,256800,11700,4450,720,970,25200,15300,6590,1080,12400,3030,1090,1610,1240,1110,750,8080,9760,4210,4740,390,3450,500,850,4810,1120,12100,1260,16600,7320,170,6510,3290,12400,7990,600,1950,260,3980,22600,5220,1060,8370,28400,230,3680,170,543610],\"type\":\"choropleth\"}],                        {\"template\":{\"data\":{\"histogram2dcontour\":[{\"type\":\"histogram2dcontour\",\"colorbar\":{\"outlinewidth\":0,\"ticks\":\"\"},\"colorscale\":[[0.0,\"#0d0887\"],[0.1111111111111111,\"#46039f\"],[0.2222222222222222,\"#7201a8\"],[0.3333333333333333,\"#9c179e\"],[0.4444444444444444,\"#bd3786\"],[0.5555555555555556,\"#d8576b\"],[0.6666666666666666,\"#ed7953\"],[0.7777777777777778,\"#fb9f3a\"],[0.8888888888888888,\"#fdca26\"],[1.0,\"#f0f921\"]]}],\"choropleth\":[{\"type\":\"choropleth\",\"colorbar\":{\"outlinewidth\":0,\"ticks\":\"\"}}],\"histogram2d\":[{\"type\":\"histogram2d\",\"colorbar\":{\"outlinewidth\":0,\"ticks\":\"\"},\"colorscale\":[[0.0,\"#0d0887\"],[0.1111111111111111,\"#46039f\"],[0.2222222222222222,\"#7201a8\"],[0.3333333333333333,\"#9c179e\"],[0.4444444444444444,\"#bd3786\"],[0.5555555555555556,\"#d8576b\"],[0.6666666666666666,\"#ed7953\"],[0.7777777777777778,\"#fb9f3a\"],[0.8888888888888888,\"#fdca26\"],[1.0,\"#f0f921\"]]}],\"heatmap\":[{\"type\":\"heatmap\",\"colorbar\":{\"outlinewidth\":0,\"ticks\":\"\"},\"colorscale\":[[0.0,\"#0d0887\"],[0.1111111111111111,\"#46039f\"],[0.2222222222222222,\"#7201a8\"],[0.3333333333333333,\"#9c179e\"],[0.4444444444444444,\"#bd3786\"],[0.5555555555555556,\"#d8576b\"],[0.6666666666666666,\"#ed7953\"],[0.7777777777777778,\"#fb9f3a\"],[0.8888888888888888,\"#fdca26\"],[1.0,\"#f0f921\"]]}],\"heatmapgl\":[{\"type\":\"heatmapgl\",\"colorbar\":{\"outlinewidth\":0,\"ticks\":\"\"},\"colorscale\":[[0.0,\"#0d0887\"],[0.1111111111111111,\"#46039f\"],[0.2222222222222222,\"#7201a8\"],[0.3333333333333333,\"#9c179e\"],[0.4444444444444444,\"#bd3786\"],[0.5555555555555556,\"#d8576b\"],[0.6666666666666666,\"#ed7953\"],[0.7777777777777778,\"#fb9f3a\"],[0.8888888888888888,\"#fdca26\"],[1.0,\"#f0f921\"]]}],\"contourcarpet\":[{\"type\":\"contourcarpet\",\"colorbar\":{\"outlinewidth\":0,\"ticks\":\"\"}}],\"contour\":[{\"type\":\"contour\",\"colorbar\":{\"outlinewidth\":0,\"ticks\":\"\"},\"colorscale\":[[0.0,\"#0d0887\"],[0.1111111111111111,\"#46039f\"],[0.2222222222222222,\"#7201a8\"],[0.3333333333333333,\"#9c179e\"],[0.4444444444444444,\"#bd3786\"],[0.5555555555555556,\"#d8576b\"],[0.6666666666666666,\"#ed7953\"],[0.7777777777777778,\"#fb9f3a\"],[0.8888888888888888,\"#fdca26\"],[1.0,\"#f0f921\"]]}],\"surface\":[{\"type\":\"surface\",\"colorbar\":{\"outlinewidth\":0,\"ticks\":\"\"},\"colorscale\":[[0.0,\"#0d0887\"],[0.1111111111111111,\"#46039f\"],[0.2222222222222222,\"#7201a8\"],[0.3333333333333333,\"#9c179e\"],[0.4444444444444444,\"#bd3786\"],[0.5555555555555556,\"#d8576b\"],[0.6666666666666666,\"#ed7953\"],[0.7777777777777778,\"#fb9f3a\"],[0.8888888888888888,\"#fdca26\"],[1.0,\"#f0f921\"]]}],\"mesh3d\":[{\"type\":\"mesh3d\",\"colorbar\":{\"outlinewidth\":0,\"ticks\":\"\"}}],\"scatter\":[{\"fillpattern\":{\"fillmode\":\"overlay\",\"size\":10,\"solidity\":0.2},\"type\":\"scatter\"}],\"parcoords\":[{\"type\":\"parcoords\",\"line\":{\"colorbar\":{\"outlinewidth\":0,\"ticks\":\"\"}}}],\"scatterpolargl\":[{\"type\":\"scatterpolargl\",\"marker\":{\"colorbar\":{\"outlinewidth\":0,\"ticks\":\"\"}}}],\"bar\":[{\"error_x\":{\"color\":\"#2a3f5f\"},\"error_y\":{\"color\":\"#2a3f5f\"},\"marker\":{\"line\":{\"color\":\"#E5ECF6\",\"width\":0.5},\"pattern\":{\"fillmode\":\"overlay\",\"size\":10,\"solidity\":0.2}},\"type\":\"bar\"}],\"scattergeo\":[{\"type\":\"scattergeo\",\"marker\":{\"colorbar\":{\"outlinewidth\":0,\"ticks\":\"\"}}}],\"scatterpolar\":[{\"type\":\"scatterpolar\",\"marker\":{\"colorbar\":{\"outlinewidth\":0,\"ticks\":\"\"}}}],\"histogram\":[{\"marker\":{\"pattern\":{\"fillmode\":\"overlay\",\"size\":10,\"solidity\":0.2}},\"type\":\"histogram\"}],\"scattergl\":[{\"type\":\"scattergl\",\"marker\":{\"colorbar\":{\"outlinewidth\":0,\"ticks\":\"\"}}}],\"scatter3d\":[{\"type\":\"scatter3d\",\"line\":{\"colorbar\":{\"outlinewidth\":0,\"ticks\":\"\"}},\"marker\":{\"colorbar\":{\"outlinewidth\":0,\"ticks\":\"\"}}}],\"scattermapbox\":[{\"type\":\"scattermapbox\",\"marker\":{\"colorbar\":{\"outlinewidth\":0,\"ticks\":\"\"}}}],\"scatterternary\":[{\"type\":\"scatterternary\",\"marker\":{\"colorbar\":{\"outlinewidth\":0,\"ticks\":\"\"}}}],\"scattercarpet\":[{\"type\":\"scattercarpet\",\"marker\":{\"colorbar\":{\"outlinewidth\":0,\"ticks\":\"\"}}}],\"carpet\":[{\"aaxis\":{\"endlinecolor\":\"#2a3f5f\",\"gridcolor\":\"white\",\"linecolor\":\"white\",\"minorgridcolor\":\"white\",\"startlinecolor\":\"#2a3f5f\"},\"baxis\":{\"endlinecolor\":\"#2a3f5f\",\"gridcolor\":\"white\",\"linecolor\":\"white\",\"minorgridcolor\":\"white\",\"startlinecolor\":\"#2a3f5f\"},\"type\":\"carpet\"}],\"table\":[{\"cells\":{\"fill\":{\"color\":\"#EBF0F8\"},\"line\":{\"color\":\"white\"}},\"header\":{\"fill\":{\"color\":\"#C8D4E3\"},\"line\":{\"color\":\"white\"}},\"type\":\"table\"}],\"barpolar\":[{\"marker\":{\"line\":{\"color\":\"#E5ECF6\",\"width\":0.5},\"pattern\":{\"fillmode\":\"overlay\",\"size\":10,\"solidity\":0.2}},\"type\":\"barpolar\"}],\"pie\":[{\"automargin\":true,\"type\":\"pie\"}]},\"layout\":{\"autotypenumbers\":\"strict\",\"colorway\":[\"#636efa\",\"#EF553B\",\"#00cc96\",\"#ab63fa\",\"#FFA15A\",\"#19d3f3\",\"#FF6692\",\"#B6E880\",\"#FF97FF\",\"#FECB52\"],\"font\":{\"color\":\"#2a3f5f\"},\"hovermode\":\"closest\",\"hoverlabel\":{\"align\":\"left\"},\"paper_bgcolor\":\"white\",\"plot_bgcolor\":\"#E5ECF6\",\"polar\":{\"bgcolor\":\"#E5ECF6\",\"angularaxis\":{\"gridcolor\":\"white\",\"linecolor\":\"white\",\"ticks\":\"\"},\"radialaxis\":{\"gridcolor\":\"white\",\"linecolor\":\"white\",\"ticks\":\"\"}},\"ternary\":{\"bgcolor\":\"#E5ECF6\",\"aaxis\":{\"gridcolor\":\"white\",\"linecolor\":\"white\",\"ticks\":\"\"},\"baxis\":{\"gridcolor\":\"white\",\"linecolor\":\"white\",\"ticks\":\"\"},\"caxis\":{\"gridcolor\":\"white\",\"linecolor\":\"white\",\"ticks\":\"\"}},\"coloraxis\":{\"colorbar\":{\"outlinewidth\":0,\"ticks\":\"\"}},\"colorscale\":{\"sequential\":[[0.0,\"#0d0887\"],[0.1111111111111111,\"#46039f\"],[0.2222222222222222,\"#7201a8\"],[0.3333333333333333,\"#9c179e\"],[0.4444444444444444,\"#bd3786\"],[0.5555555555555556,\"#d8576b\"],[0.6666666666666666,\"#ed7953\"],[0.7777777777777778,\"#fb9f3a\"],[0.8888888888888888,\"#fdca26\"],[1.0,\"#f0f921\"]],\"sequentialminus\":[[0.0,\"#0d0887\"],[0.1111111111111111,\"#46039f\"],[0.2222222222222222,\"#7201a8\"],[0.3333333333333333,\"#9c179e\"],[0.4444444444444444,\"#bd3786\"],[0.5555555555555556,\"#d8576b\"],[0.6666666666666666,\"#ed7953\"],[0.7777777777777778,\"#fb9f3a\"],[0.8888888888888888,\"#fdca26\"],[1.0,\"#f0f921\"]],\"diverging\":[[0,\"#8e0152\"],[0.1,\"#c51b7d\"],[0.2,\"#de77ae\"],[0.3,\"#f1b6da\"],[0.4,\"#fde0ef\"],[0.5,\"#f7f7f7\"],[0.6,\"#e6f5d0\"],[0.7,\"#b8e186\"],[0.8,\"#7fbc41\"],[0.9,\"#4d9221\"],[1,\"#276419\"]]},\"xaxis\":{\"gridcolor\":\"white\",\"linecolor\":\"white\",\"ticks\":\"\",\"title\":{\"standoff\":15},\"zerolinecolor\":\"white\",\"automargin\":true,\"zerolinewidth\":2},\"yaxis\":{\"gridcolor\":\"white\",\"linecolor\":\"white\",\"ticks\":\"\",\"title\":{\"standoff\":15},\"zerolinecolor\":\"white\",\"automargin\":true,\"zerolinewidth\":2},\"scene\":{\"xaxis\":{\"backgroundcolor\":\"#E5ECF6\",\"gridcolor\":\"white\",\"linecolor\":\"white\",\"showbackground\":true,\"ticks\":\"\",\"zerolinecolor\":\"white\",\"gridwidth\":2},\"yaxis\":{\"backgroundcolor\":\"#E5ECF6\",\"gridcolor\":\"white\",\"linecolor\":\"white\",\"showbackground\":true,\"ticks\":\"\",\"zerolinecolor\":\"white\",\"gridwidth\":2},\"zaxis\":{\"backgroundcolor\":\"#E5ECF6\",\"gridcolor\":\"white\",\"linecolor\":\"white\",\"showbackground\":true,\"ticks\":\"\",\"zerolinecolor\":\"white\",\"gridwidth\":2}},\"shapedefaults\":{\"line\":{\"color\":\"#2a3f5f\"}},\"annotationdefaults\":{\"arrowcolor\":\"#2a3f5f\",\"arrowhead\":0,\"arrowwidth\":1},\"geo\":{\"bgcolor\":\"white\",\"landcolor\":\"#E5ECF6\",\"subunitcolor\":\"white\",\"showland\":true,\"showlakes\":true,\"lakecolor\":\"white\"},\"title\":{\"x\":0.05},\"mapbox\":{\"style\":\"light\"}}},\"geo\":{\"domain\":{\"x\":[0.0,1.0],\"y\":[0.0,1.0]},\"center\":{},\"scope\":\"usa\"},\"coloraxis\":{\"colorbar\":{\"title\":{\"text\":\"ev_registrations\"}},\"colorscale\":[[0.0,\"#440154\"],[0.1111111111111111,\"#482878\"],[0.2222222222222222,\"#3e4989\"],[0.3333333333333333,\"#31688e\"],[0.4444444444444444,\"#26828e\"],[0.5555555555555556,\"#1f9e89\"],[0.6666666666666666,\"#35b779\"],[0.7777777777777778,\"#6ece58\"],[0.8888888888888888,\"#b5de2b\"],[1.0,\"#fde725\"]]},\"legend\":{\"tracegroupgap\":0},\"title\":{\"text\":\"EV Registrations by State (2018)\"}},                        {\"responsive\": true}                    ).then(function(){\n",
              "                            \n",
              "var gd = document.getElementById('bf1e1225-4bc3-44ac-9acb-327c03722e7f');\n",
              "var x = new MutationObserver(function (mutations, observer) {{\n",
              "        var display = window.getComputedStyle(gd).display;\n",
              "        if (!display || display === 'none') {{\n",
              "            console.log([gd, 'removed!']);\n",
              "            Plotly.purge(gd);\n",
              "            observer.disconnect();\n",
              "        }}\n",
              "}});\n",
              "\n",
              "// Listen for the removal of the full notebook cells\n",
              "var notebookContainer = gd.closest('#notebook-container');\n",
              "if (notebookContainer) {{\n",
              "    x.observe(notebookContainer, {childList: true});\n",
              "}}\n",
              "\n",
              "// Listen for the clearing of the current output cell\n",
              "var outputEl = gd.closest('.output');\n",
              "if (outputEl) {{\n",
              "    x.observe(outputEl, {childList: true});\n",
              "}}\n",
              "\n",
              "                        })                };                            </script>        </div>\n",
              "</body>\n",
              "</html>"
            ]
          },
          "metadata": {}
        }
      ]
    },
    {
      "cell_type": "code",
      "source": [
        "# Create a simple renewable energy total\n",
        "ev_energy['total_renewable'] = (\n",
        "    ev_energy.get('Solar Thermal and Photovoltaic', 0) +\n",
        "    ev_energy.get('Wind', 0) +\n",
        "    ev_energy.get('Hydroelectric Conventional', 0)\n",
        ")\n"
      ],
      "metadata": {
        "id": "0zBa2rYfCHC7"
      },
      "execution_count": null,
      "outputs": []
    },
    {
      "cell_type": "code",
      "source": [
        "import plotly.express as px\n",
        "\n",
        "fig = px.choropleth(\n",
        "    ev_energy,\n",
        "    locations='state_code_x',\n",
        "    locationmode='USA-states',\n",
        "    color='category',\n",
        "    scope='usa',\n",
        "    title='EV vs Renewable Energy Category by State',\n",
        "    color_discrete_map={\n",
        "        'High EV & Renewable': 'darkgreen',\n",
        "        'High EV, Low Renewable': 'gold',\n",
        "        'Low EV, High Renewable': 'deepskyblue',\n",
        "        'Low EV & Renewable': 'lightgray'\n",
        "    }\n",
        ")\n",
        "\n",
        "fig.show()\n"
      ],
      "metadata": {
        "colab": {
          "base_uri": "https://localhost:8080/",
          "height": 542
        },
        "id": "SFZycn6MDcWH",
        "outputId": "bed4043c-e3e6-4101-84eb-8ea8d355b5eb"
      },
      "execution_count": null,
      "outputs": [
        {
          "output_type": "display_data",
          "data": {
            "text/html": [
              "<html>\n",
              "<head><meta charset=\"utf-8\" /></head>\n",
              "<body>\n",
              "    <div>            <script src=\"https://cdnjs.cloudflare.com/ajax/libs/mathjax/2.7.5/MathJax.js?config=TeX-AMS-MML_SVG\"></script><script type=\"text/javascript\">if (window.MathJax && window.MathJax.Hub && window.MathJax.Hub.Config) {window.MathJax.Hub.Config({SVG: {font: \"STIX-Web\"}});}</script>                <script type=\"text/javascript\">window.PlotlyConfig = {MathJaxConfig: 'local'};</script>\n",
              "        <script charset=\"utf-8\" src=\"https://cdn.plot.ly/plotly-2.35.2.min.js\"></script>                <div id=\"958cdf8b-3590-4a4e-a3aa-b17e2dce0379\" class=\"plotly-graph-div\" style=\"height:525px; width:100%;\"></div>            <script type=\"text/javascript\">                                    window.PLOTLYENV=window.PLOTLYENV || {};                                    if (document.getElementById(\"958cdf8b-3590-4a4e-a3aa-b17e2dce0379\")) {                    Plotly.newPlot(                        \"958cdf8b-3590-4a4e-a3aa-b17e2dce0379\",                        [{\"colorscale\":[[0.0,\"lightgray\"],[1.0,\"lightgray\"]],\"geo\":\"geo\",\"hovertemplate\":\"category=Low EV & Renewable\\u003cbr\\u003estate_code_x=%{location}\\u003cextra\\u003e\\u003c\\u002fextra\\u003e\",\"locationmode\":\"USA-states\",\"locations\":[\"AK\",\"AR\",\"CA\",\"CO\",\"CT\",\"DE\",null,\"FL\",\"GA\",\"ID\",\"IL\",\"IN\",\"IA\",\"KS\",\"KY\",\"LA\",\"ME\",\"MA\",\"MI\",\"MN\",\"MS\",\"MO\",\"MT\",\"NE\",\"NV\",\"NJ\",\"NY\",\"ND\",\"OH\",\"OK\",\"OR\",\"PA\",\"RI\",\"SC\",\"SD\",\"TN\",\"TX\",\"WA\",\"WV\",\"WI\",\"WY\"],\"name\":\"Low EV & Renewable\",\"showlegend\":true,\"showscale\":false,\"z\":[1,1,1,1,1,1,1,1,1,1,1,1,1,1,1,1,1,1,1,1,1,1,1,1,1,1,1,1,1,1,1,1,1,1,1,1,1,1,1,1,1],\"type\":\"choropleth\"},{\"colorscale\":[[0.0,\"gold\"],[1.0,\"gold\"]],\"geo\":\"geo\",\"hovertemplate\":\"category=High EV, Low Renewable\\u003cbr\\u003estate_code_x=%{location}\\u003cextra\\u003e\\u003c\\u002fextra\\u003e\",\"locationmode\":\"USA-states\",\"locations\":[\"AZ\",\"HI\",\"MD\",\"NH\",\"NM\",\"NC\",\"UT\",\"VT\",\"VA\",null],\"name\":\"High EV, Low Renewable\",\"showlegend\":true,\"showscale\":false,\"z\":[1,1,1,1,1,1,1,1,1,1],\"type\":\"choropleth\"}],                        {\"template\":{\"data\":{\"histogram2dcontour\":[{\"type\":\"histogram2dcontour\",\"colorbar\":{\"outlinewidth\":0,\"ticks\":\"\"},\"colorscale\":[[0.0,\"#0d0887\"],[0.1111111111111111,\"#46039f\"],[0.2222222222222222,\"#7201a8\"],[0.3333333333333333,\"#9c179e\"],[0.4444444444444444,\"#bd3786\"],[0.5555555555555556,\"#d8576b\"],[0.6666666666666666,\"#ed7953\"],[0.7777777777777778,\"#fb9f3a\"],[0.8888888888888888,\"#fdca26\"],[1.0,\"#f0f921\"]]}],\"choropleth\":[{\"type\":\"choropleth\",\"colorbar\":{\"outlinewidth\":0,\"ticks\":\"\"}}],\"histogram2d\":[{\"type\":\"histogram2d\",\"colorbar\":{\"outlinewidth\":0,\"ticks\":\"\"},\"colorscale\":[[0.0,\"#0d0887\"],[0.1111111111111111,\"#46039f\"],[0.2222222222222222,\"#7201a8\"],[0.3333333333333333,\"#9c179e\"],[0.4444444444444444,\"#bd3786\"],[0.5555555555555556,\"#d8576b\"],[0.6666666666666666,\"#ed7953\"],[0.7777777777777778,\"#fb9f3a\"],[0.8888888888888888,\"#fdca26\"],[1.0,\"#f0f921\"]]}],\"heatmap\":[{\"type\":\"heatmap\",\"colorbar\":{\"outlinewidth\":0,\"ticks\":\"\"},\"colorscale\":[[0.0,\"#0d0887\"],[0.1111111111111111,\"#46039f\"],[0.2222222222222222,\"#7201a8\"],[0.3333333333333333,\"#9c179e\"],[0.4444444444444444,\"#bd3786\"],[0.5555555555555556,\"#d8576b\"],[0.6666666666666666,\"#ed7953\"],[0.7777777777777778,\"#fb9f3a\"],[0.8888888888888888,\"#fdca26\"],[1.0,\"#f0f921\"]]}],\"heatmapgl\":[{\"type\":\"heatmapgl\",\"colorbar\":{\"outlinewidth\":0,\"ticks\":\"\"},\"colorscale\":[[0.0,\"#0d0887\"],[0.1111111111111111,\"#46039f\"],[0.2222222222222222,\"#7201a8\"],[0.3333333333333333,\"#9c179e\"],[0.4444444444444444,\"#bd3786\"],[0.5555555555555556,\"#d8576b\"],[0.6666666666666666,\"#ed7953\"],[0.7777777777777778,\"#fb9f3a\"],[0.8888888888888888,\"#fdca26\"],[1.0,\"#f0f921\"]]}],\"contourcarpet\":[{\"type\":\"contourcarpet\",\"colorbar\":{\"outlinewidth\":0,\"ticks\":\"\"}}],\"contour\":[{\"type\":\"contour\",\"colorbar\":{\"outlinewidth\":0,\"ticks\":\"\"},\"colorscale\":[[0.0,\"#0d0887\"],[0.1111111111111111,\"#46039f\"],[0.2222222222222222,\"#7201a8\"],[0.3333333333333333,\"#9c179e\"],[0.4444444444444444,\"#bd3786\"],[0.5555555555555556,\"#d8576b\"],[0.6666666666666666,\"#ed7953\"],[0.7777777777777778,\"#fb9f3a\"],[0.8888888888888888,\"#fdca26\"],[1.0,\"#f0f921\"]]}],\"surface\":[{\"type\":\"surface\",\"colorbar\":{\"outlinewidth\":0,\"ticks\":\"\"},\"colorscale\":[[0.0,\"#0d0887\"],[0.1111111111111111,\"#46039f\"],[0.2222222222222222,\"#7201a8\"],[0.3333333333333333,\"#9c179e\"],[0.4444444444444444,\"#bd3786\"],[0.5555555555555556,\"#d8576b\"],[0.6666666666666666,\"#ed7953\"],[0.7777777777777778,\"#fb9f3a\"],[0.8888888888888888,\"#fdca26\"],[1.0,\"#f0f921\"]]}],\"mesh3d\":[{\"type\":\"mesh3d\",\"colorbar\":{\"outlinewidth\":0,\"ticks\":\"\"}}],\"scatter\":[{\"fillpattern\":{\"fillmode\":\"overlay\",\"size\":10,\"solidity\":0.2},\"type\":\"scatter\"}],\"parcoords\":[{\"type\":\"parcoords\",\"line\":{\"colorbar\":{\"outlinewidth\":0,\"ticks\":\"\"}}}],\"scatterpolargl\":[{\"type\":\"scatterpolargl\",\"marker\":{\"colorbar\":{\"outlinewidth\":0,\"ticks\":\"\"}}}],\"bar\":[{\"error_x\":{\"color\":\"#2a3f5f\"},\"error_y\":{\"color\":\"#2a3f5f\"},\"marker\":{\"line\":{\"color\":\"#E5ECF6\",\"width\":0.5},\"pattern\":{\"fillmode\":\"overlay\",\"size\":10,\"solidity\":0.2}},\"type\":\"bar\"}],\"scattergeo\":[{\"type\":\"scattergeo\",\"marker\":{\"colorbar\":{\"outlinewidth\":0,\"ticks\":\"\"}}}],\"scatterpolar\":[{\"type\":\"scatterpolar\",\"marker\":{\"colorbar\":{\"outlinewidth\":0,\"ticks\":\"\"}}}],\"histogram\":[{\"marker\":{\"pattern\":{\"fillmode\":\"overlay\",\"size\":10,\"solidity\":0.2}},\"type\":\"histogram\"}],\"scattergl\":[{\"type\":\"scattergl\",\"marker\":{\"colorbar\":{\"outlinewidth\":0,\"ticks\":\"\"}}}],\"scatter3d\":[{\"type\":\"scatter3d\",\"line\":{\"colorbar\":{\"outlinewidth\":0,\"ticks\":\"\"}},\"marker\":{\"colorbar\":{\"outlinewidth\":0,\"ticks\":\"\"}}}],\"scattermapbox\":[{\"type\":\"scattermapbox\",\"marker\":{\"colorbar\":{\"outlinewidth\":0,\"ticks\":\"\"}}}],\"scatterternary\":[{\"type\":\"scatterternary\",\"marker\":{\"colorbar\":{\"outlinewidth\":0,\"ticks\":\"\"}}}],\"scattercarpet\":[{\"type\":\"scattercarpet\",\"marker\":{\"colorbar\":{\"outlinewidth\":0,\"ticks\":\"\"}}}],\"carpet\":[{\"aaxis\":{\"endlinecolor\":\"#2a3f5f\",\"gridcolor\":\"white\",\"linecolor\":\"white\",\"minorgridcolor\":\"white\",\"startlinecolor\":\"#2a3f5f\"},\"baxis\":{\"endlinecolor\":\"#2a3f5f\",\"gridcolor\":\"white\",\"linecolor\":\"white\",\"minorgridcolor\":\"white\",\"startlinecolor\":\"#2a3f5f\"},\"type\":\"carpet\"}],\"table\":[{\"cells\":{\"fill\":{\"color\":\"#EBF0F8\"},\"line\":{\"color\":\"white\"}},\"header\":{\"fill\":{\"color\":\"#C8D4E3\"},\"line\":{\"color\":\"white\"}},\"type\":\"table\"}],\"barpolar\":[{\"marker\":{\"line\":{\"color\":\"#E5ECF6\",\"width\":0.5},\"pattern\":{\"fillmode\":\"overlay\",\"size\":10,\"solidity\":0.2}},\"type\":\"barpolar\"}],\"pie\":[{\"automargin\":true,\"type\":\"pie\"}]},\"layout\":{\"autotypenumbers\":\"strict\",\"colorway\":[\"#636efa\",\"#EF553B\",\"#00cc96\",\"#ab63fa\",\"#FFA15A\",\"#19d3f3\",\"#FF6692\",\"#B6E880\",\"#FF97FF\",\"#FECB52\"],\"font\":{\"color\":\"#2a3f5f\"},\"hovermode\":\"closest\",\"hoverlabel\":{\"align\":\"left\"},\"paper_bgcolor\":\"white\",\"plot_bgcolor\":\"#E5ECF6\",\"polar\":{\"bgcolor\":\"#E5ECF6\",\"angularaxis\":{\"gridcolor\":\"white\",\"linecolor\":\"white\",\"ticks\":\"\"},\"radialaxis\":{\"gridcolor\":\"white\",\"linecolor\":\"white\",\"ticks\":\"\"}},\"ternary\":{\"bgcolor\":\"#E5ECF6\",\"aaxis\":{\"gridcolor\":\"white\",\"linecolor\":\"white\",\"ticks\":\"\"},\"baxis\":{\"gridcolor\":\"white\",\"linecolor\":\"white\",\"ticks\":\"\"},\"caxis\":{\"gridcolor\":\"white\",\"linecolor\":\"white\",\"ticks\":\"\"}},\"coloraxis\":{\"colorbar\":{\"outlinewidth\":0,\"ticks\":\"\"}},\"colorscale\":{\"sequential\":[[0.0,\"#0d0887\"],[0.1111111111111111,\"#46039f\"],[0.2222222222222222,\"#7201a8\"],[0.3333333333333333,\"#9c179e\"],[0.4444444444444444,\"#bd3786\"],[0.5555555555555556,\"#d8576b\"],[0.6666666666666666,\"#ed7953\"],[0.7777777777777778,\"#fb9f3a\"],[0.8888888888888888,\"#fdca26\"],[1.0,\"#f0f921\"]],\"sequentialminus\":[[0.0,\"#0d0887\"],[0.1111111111111111,\"#46039f\"],[0.2222222222222222,\"#7201a8\"],[0.3333333333333333,\"#9c179e\"],[0.4444444444444444,\"#bd3786\"],[0.5555555555555556,\"#d8576b\"],[0.6666666666666666,\"#ed7953\"],[0.7777777777777778,\"#fb9f3a\"],[0.8888888888888888,\"#fdca26\"],[1.0,\"#f0f921\"]],\"diverging\":[[0,\"#8e0152\"],[0.1,\"#c51b7d\"],[0.2,\"#de77ae\"],[0.3,\"#f1b6da\"],[0.4,\"#fde0ef\"],[0.5,\"#f7f7f7\"],[0.6,\"#e6f5d0\"],[0.7,\"#b8e186\"],[0.8,\"#7fbc41\"],[0.9,\"#4d9221\"],[1,\"#276419\"]]},\"xaxis\":{\"gridcolor\":\"white\",\"linecolor\":\"white\",\"ticks\":\"\",\"title\":{\"standoff\":15},\"zerolinecolor\":\"white\",\"automargin\":true,\"zerolinewidth\":2},\"yaxis\":{\"gridcolor\":\"white\",\"linecolor\":\"white\",\"ticks\":\"\",\"title\":{\"standoff\":15},\"zerolinecolor\":\"white\",\"automargin\":true,\"zerolinewidth\":2},\"scene\":{\"xaxis\":{\"backgroundcolor\":\"#E5ECF6\",\"gridcolor\":\"white\",\"linecolor\":\"white\",\"showbackground\":true,\"ticks\":\"\",\"zerolinecolor\":\"white\",\"gridwidth\":2},\"yaxis\":{\"backgroundcolor\":\"#E5ECF6\",\"gridcolor\":\"white\",\"linecolor\":\"white\",\"showbackground\":true,\"ticks\":\"\",\"zerolinecolor\":\"white\",\"gridwidth\":2},\"zaxis\":{\"backgroundcolor\":\"#E5ECF6\",\"gridcolor\":\"white\",\"linecolor\":\"white\",\"showbackground\":true,\"ticks\":\"\",\"zerolinecolor\":\"white\",\"gridwidth\":2}},\"shapedefaults\":{\"line\":{\"color\":\"#2a3f5f\"}},\"annotationdefaults\":{\"arrowcolor\":\"#2a3f5f\",\"arrowhead\":0,\"arrowwidth\":1},\"geo\":{\"bgcolor\":\"white\",\"landcolor\":\"#E5ECF6\",\"subunitcolor\":\"white\",\"showland\":true,\"showlakes\":true,\"lakecolor\":\"white\"},\"title\":{\"x\":0.05},\"mapbox\":{\"style\":\"light\"}}},\"geo\":{\"domain\":{\"x\":[0.0,1.0],\"y\":[0.0,1.0]},\"center\":{},\"scope\":\"usa\"},\"legend\":{\"title\":{\"text\":\"category\"},\"tracegroupgap\":0},\"title\":{\"text\":\"EV vs Renewable Energy Category by State\"}},                        {\"responsive\": true}                    ).then(function(){\n",
              "                            \n",
              "var gd = document.getElementById('958cdf8b-3590-4a4e-a3aa-b17e2dce0379');\n",
              "var x = new MutationObserver(function (mutations, observer) {{\n",
              "        var display = window.getComputedStyle(gd).display;\n",
              "        if (!display || display === 'none') {{\n",
              "            console.log([gd, 'removed!']);\n",
              "            Plotly.purge(gd);\n",
              "            observer.disconnect();\n",
              "        }}\n",
              "}});\n",
              "\n",
              "// Listen for the removal of the full notebook cells\n",
              "var notebookContainer = gd.closest('#notebook-container');\n",
              "if (notebookContainer) {{\n",
              "    x.observe(notebookContainer, {childList: true});\n",
              "}}\n",
              "\n",
              "// Listen for the clearing of the current output cell\n",
              "var outputEl = gd.closest('.output');\n",
              "if (outputEl) {{\n",
              "    x.observe(outputEl, {childList: true});\n",
              "}}\n",
              "\n",
              "                        })                };                            </script>        </div>\n",
              "</body>\n",
              "</html>"
            ]
          },
          "metadata": {}
        }
      ]
    },
    {
      "cell_type": "code",
      "source": [
        "top_states = ev_energy.sort_values(by='ev_percentage', ascending=False).head(5)\n",
        "print(top_states[['state', 'ev_percentage', 'total_renewable']])\n"
      ],
      "metadata": {
        "colab": {
          "base_uri": "https://localhost:8080/"
        },
        "id": "vIKofV4pDex3",
        "outputId": "48814016-2a6d-490e-8005-d74a4d9eefd7"
      },
      "execution_count": null,
      "outputs": [
        {
          "output_type": "stream",
          "name": "stdout",
          "text": [
            "      state  ev_percentage  total_renewable\n",
            "10   Hawaii       1.312318              NaN\n",
            "1   Arizona       0.632260              NaN\n",
            "43     Utah       0.563667              NaN\n",
            "44  Vermont       0.495149              NaN\n",
            "50    Total       0.495030              NaN\n"
          ]
        }
      ]
    },
    {
      "cell_type": "code",
      "source": [
        "import seaborn as sns\n",
        "import matplotlib.pyplot as plt\n",
        "\n",
        "plt.figure(figsize=(10,6))\n",
        "sns.scatterplot(data=ev_energy, x='total_renewable', y='ev_percentage')\n",
        "plt.title('EV % vs Renewable Energy Production')\n",
        "plt.xlabel('Total Renewable Energy (MWh)')\n",
        "plt.ylabel('EV Percentage')\n",
        "plt.tight_layout()\n",
        "plt.show()\n"
      ],
      "metadata": {
        "colab": {
          "base_uri": "https://localhost:8080/",
          "height": 607
        },
        "id": "6WW--x-fFsMo",
        "outputId": "3c35e031-ada5-4bda-92a9-47c6e582db2b"
      },
      "execution_count": null,
      "outputs": [
        {
          "output_type": "display_data",
          "data": {
            "text/plain": [
              "<Figure size 1000x600 with 1 Axes>"
            ],
            "image/png": "[encoded data removed]"
          },
          "metadata": {}
        }
      ]
    },
    {
      "cell_type": "code",
      "source": [],
      "metadata": {
        "id": "yGxuFnjcF2tE"
      },
      "execution_count": null,
      "outputs": []
    }
  ]
}